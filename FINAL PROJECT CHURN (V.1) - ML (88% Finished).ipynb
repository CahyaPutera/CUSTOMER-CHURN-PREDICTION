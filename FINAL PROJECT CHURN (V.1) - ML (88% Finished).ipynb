{
 "cells": [
  {
   "cell_type": "markdown",
   "metadata": {},
   "source": [
    "## FINAL PROJECT"
   ]
  },
  {
   "cell_type": "markdown",
   "metadata": {},
   "source": [
    "### TELCO CUSTOMER CHURN\n",
    "#### SECTION 2 - MACHINE LEARNING"
   ]
  },
  {
   "cell_type": "markdown",
   "metadata": {},
   "source": [
    "***The goal of this process is to predict the churned or not churned customers in order to help retain customers.*** \n",
    "\n",
    "In order to achieve this goal, we will be focusing on searching the best Machine Learning Model using some conditions below : \n",
    "\n",
    "- First, we split the data into 80% Train data and then we split the data into 90% Train data.\n",
    "\n",
    "\n",
    "- Then we scale the data so that the're having the same scale.\n",
    "\n",
    "\n",
    "- In each attempts we will be conducting the Logistic Regression, Random Forrest Classifier and KNearest Neighbors Models.\n",
    "\n",
    "\n",
    "- Also we try to do the hyperparameter tuning then compare it between it's default models.\n",
    "\n",
    "\n",
    "- We will also try to use oversampling method to re-balance our data and see whether there is an improvements in our models.\n",
    "\n",
    "\n",
    "- In last part we compare the result between models to achieve our goals."
   ]
  },
  {
   "cell_type": "markdown",
   "metadata": {},
   "source": [
    "### IMPORT LIBRARIES"
   ]
  },
  {
   "cell_type": "code",
   "execution_count": 1,
   "metadata": {},
   "outputs": [],
   "source": [
    "import pandas as pd\n",
    "import numpy as np\n",
    "import seaborn as sns\n",
    "import matplotlib.pyplot as plt\n",
    "\n",
    "import statsmodels.api as sm\n",
    "import pylab\n",
    "\n",
    "from scipy.stats import anderson\n",
    "from sklearn.preprocessing import MinMaxScaler\n",
    "from sklearn.model_selection import train_test_split\n",
    "from sklearn.linear_model import LogisticRegression\n",
    "from sklearn.preprocessing import OneHotEncoder\n",
    "\n",
    "from sklearn import tree\n",
    "from sklearn.ensemble import RandomForestClassifier\n",
    "from sklearn.neighbors import KNeighborsClassifier\n",
    "from sklearn.metrics import confusion_matrix\n",
    "from sklearn.metrics import classification_report\n",
    "from sklearn.model_selection import RandomizedSearchCV\n",
    "from sklearn.metrics import accuracy_score\n",
    "from imblearn.over_sampling import SMOTE\n",
    "\n",
    "import warnings\n",
    "warnings.filterwarnings('ignore')"
   ]
  },
  {
   "cell_type": "markdown",
   "metadata": {},
   "source": [
    "### LOAD DATA"
   ]
  },
  {
   "cell_type": "code",
   "execution_count": 2,
   "metadata": {},
   "outputs": [],
   "source": [
    "df = pd.read_csv('Telco-Customer-Churn-Clean.csv')"
   ]
  },
  {
   "cell_type": "code",
   "execution_count": 3,
   "metadata": {},
   "outputs": [
    {
     "data": {
      "text/html": [
       "<div>\n",
       "<style scoped>\n",
       "    .dataframe tbody tr th:only-of-type {\n",
       "        vertical-align: middle;\n",
       "    }\n",
       "\n",
       "    .dataframe tbody tr th {\n",
       "        vertical-align: top;\n",
       "    }\n",
       "\n",
       "    .dataframe thead th {\n",
       "        text-align: right;\n",
       "    }\n",
       "</style>\n",
       "<table border=\"1\" class=\"dataframe\">\n",
       "  <thead>\n",
       "    <tr style=\"text-align: right;\">\n",
       "      <th></th>\n",
       "      <th>customerID</th>\n",
       "      <th>Gender</th>\n",
       "      <th>SeniorCitizen</th>\n",
       "      <th>Partner</th>\n",
       "      <th>Dependents</th>\n",
       "      <th>Tenure</th>\n",
       "      <th>PhoneService</th>\n",
       "      <th>MultipleLines</th>\n",
       "      <th>InternetService</th>\n",
       "      <th>OnlineSecurity</th>\n",
       "      <th>...</th>\n",
       "      <th>DeviceProtection</th>\n",
       "      <th>TechSupport</th>\n",
       "      <th>StreamingTV</th>\n",
       "      <th>StreamingMovies</th>\n",
       "      <th>Contract</th>\n",
       "      <th>PaperlessBilling</th>\n",
       "      <th>PaymentMethod</th>\n",
       "      <th>MonthlyCharges</th>\n",
       "      <th>TotalCharges</th>\n",
       "      <th>Churn</th>\n",
       "    </tr>\n",
       "  </thead>\n",
       "  <tbody>\n",
       "    <tr>\n",
       "      <td>0</td>\n",
       "      <td>7590-VHVEG</td>\n",
       "      <td>Female</td>\n",
       "      <td>No</td>\n",
       "      <td>Yes</td>\n",
       "      <td>No</td>\n",
       "      <td>1</td>\n",
       "      <td>No</td>\n",
       "      <td>No phone service</td>\n",
       "      <td>DSL</td>\n",
       "      <td>No</td>\n",
       "      <td>...</td>\n",
       "      <td>No</td>\n",
       "      <td>No</td>\n",
       "      <td>No</td>\n",
       "      <td>No</td>\n",
       "      <td>Month-to-month</td>\n",
       "      <td>Yes</td>\n",
       "      <td>Electronic check</td>\n",
       "      <td>29.85</td>\n",
       "      <td>29.85</td>\n",
       "      <td>0</td>\n",
       "    </tr>\n",
       "    <tr>\n",
       "      <td>1</td>\n",
       "      <td>5575-GNVDE</td>\n",
       "      <td>Male</td>\n",
       "      <td>No</td>\n",
       "      <td>No</td>\n",
       "      <td>No</td>\n",
       "      <td>34</td>\n",
       "      <td>Yes</td>\n",
       "      <td>No</td>\n",
       "      <td>DSL</td>\n",
       "      <td>Yes</td>\n",
       "      <td>...</td>\n",
       "      <td>Yes</td>\n",
       "      <td>No</td>\n",
       "      <td>No</td>\n",
       "      <td>No</td>\n",
       "      <td>One year</td>\n",
       "      <td>No</td>\n",
       "      <td>Mailed check</td>\n",
       "      <td>56.95</td>\n",
       "      <td>1889.50</td>\n",
       "      <td>0</td>\n",
       "    </tr>\n",
       "    <tr>\n",
       "      <td>2</td>\n",
       "      <td>3668-QPYBK</td>\n",
       "      <td>Male</td>\n",
       "      <td>No</td>\n",
       "      <td>No</td>\n",
       "      <td>No</td>\n",
       "      <td>2</td>\n",
       "      <td>Yes</td>\n",
       "      <td>No</td>\n",
       "      <td>DSL</td>\n",
       "      <td>Yes</td>\n",
       "      <td>...</td>\n",
       "      <td>No</td>\n",
       "      <td>No</td>\n",
       "      <td>No</td>\n",
       "      <td>No</td>\n",
       "      <td>Month-to-month</td>\n",
       "      <td>Yes</td>\n",
       "      <td>Mailed check</td>\n",
       "      <td>53.85</td>\n",
       "      <td>108.15</td>\n",
       "      <td>1</td>\n",
       "    </tr>\n",
       "    <tr>\n",
       "      <td>3</td>\n",
       "      <td>7795-CFOCW</td>\n",
       "      <td>Male</td>\n",
       "      <td>No</td>\n",
       "      <td>No</td>\n",
       "      <td>No</td>\n",
       "      <td>45</td>\n",
       "      <td>No</td>\n",
       "      <td>No phone service</td>\n",
       "      <td>DSL</td>\n",
       "      <td>Yes</td>\n",
       "      <td>...</td>\n",
       "      <td>Yes</td>\n",
       "      <td>Yes</td>\n",
       "      <td>No</td>\n",
       "      <td>No</td>\n",
       "      <td>One year</td>\n",
       "      <td>No</td>\n",
       "      <td>Bank transfer (automatic)</td>\n",
       "      <td>42.30</td>\n",
       "      <td>1840.75</td>\n",
       "      <td>0</td>\n",
       "    </tr>\n",
       "    <tr>\n",
       "      <td>4</td>\n",
       "      <td>9237-HQITU</td>\n",
       "      <td>Female</td>\n",
       "      <td>No</td>\n",
       "      <td>No</td>\n",
       "      <td>No</td>\n",
       "      <td>2</td>\n",
       "      <td>Yes</td>\n",
       "      <td>No</td>\n",
       "      <td>Fiber optic</td>\n",
       "      <td>No</td>\n",
       "      <td>...</td>\n",
       "      <td>No</td>\n",
       "      <td>No</td>\n",
       "      <td>No</td>\n",
       "      <td>No</td>\n",
       "      <td>Month-to-month</td>\n",
       "      <td>Yes</td>\n",
       "      <td>Electronic check</td>\n",
       "      <td>70.70</td>\n",
       "      <td>151.65</td>\n",
       "      <td>1</td>\n",
       "    </tr>\n",
       "  </tbody>\n",
       "</table>\n",
       "<p>5 rows × 21 columns</p>\n",
       "</div>"
      ],
      "text/plain": [
       "   customerID  Gender SeniorCitizen Partner Dependents  Tenure PhoneService  \\\n",
       "0  7590-VHVEG  Female            No     Yes         No       1           No   \n",
       "1  5575-GNVDE    Male            No      No         No      34          Yes   \n",
       "2  3668-QPYBK    Male            No      No         No       2          Yes   \n",
       "3  7795-CFOCW    Male            No      No         No      45           No   \n",
       "4  9237-HQITU  Female            No      No         No       2          Yes   \n",
       "\n",
       "      MultipleLines InternetService OnlineSecurity  ... DeviceProtection  \\\n",
       "0  No phone service             DSL             No  ...               No   \n",
       "1                No             DSL            Yes  ...              Yes   \n",
       "2                No             DSL            Yes  ...               No   \n",
       "3  No phone service             DSL            Yes  ...              Yes   \n",
       "4                No     Fiber optic             No  ...               No   \n",
       "\n",
       "  TechSupport StreamingTV StreamingMovies        Contract PaperlessBilling  \\\n",
       "0          No          No              No  Month-to-month              Yes   \n",
       "1          No          No              No        One year               No   \n",
       "2          No          No              No  Month-to-month              Yes   \n",
       "3         Yes          No              No        One year               No   \n",
       "4          No          No              No  Month-to-month              Yes   \n",
       "\n",
       "               PaymentMethod MonthlyCharges  TotalCharges  Churn  \n",
       "0           Electronic check          29.85         29.85      0  \n",
       "1               Mailed check          56.95       1889.50      0  \n",
       "2               Mailed check          53.85        108.15      1  \n",
       "3  Bank transfer (automatic)          42.30       1840.75      0  \n",
       "4           Electronic check          70.70        151.65      1  \n",
       "\n",
       "[5 rows x 21 columns]"
      ]
     },
     "execution_count": 3,
     "metadata": {},
     "output_type": "execute_result"
    }
   ],
   "source": [
    "df.head()"
   ]
  },
  {
   "cell_type": "code",
   "execution_count": 4,
   "metadata": {},
   "outputs": [
    {
     "data": {
      "text/html": [
       "<div>\n",
       "<style scoped>\n",
       "    .dataframe tbody tr th:only-of-type {\n",
       "        vertical-align: middle;\n",
       "    }\n",
       "\n",
       "    .dataframe tbody tr th {\n",
       "        vertical-align: top;\n",
       "    }\n",
       "\n",
       "    .dataframe thead th {\n",
       "        text-align: right;\n",
       "    }\n",
       "</style>\n",
       "<table border=\"1\" class=\"dataframe\">\n",
       "  <thead>\n",
       "    <tr style=\"text-align: right;\">\n",
       "      <th></th>\n",
       "      <th>customerID</th>\n",
       "      <th>Gender</th>\n",
       "      <th>SeniorCitizen</th>\n",
       "      <th>Partner</th>\n",
       "      <th>Dependents</th>\n",
       "      <th>Tenure</th>\n",
       "      <th>PhoneService</th>\n",
       "      <th>MultipleLines</th>\n",
       "      <th>InternetService</th>\n",
       "      <th>OnlineSecurity</th>\n",
       "      <th>...</th>\n",
       "      <th>DeviceProtection</th>\n",
       "      <th>TechSupport</th>\n",
       "      <th>StreamingTV</th>\n",
       "      <th>StreamingMovies</th>\n",
       "      <th>Contract</th>\n",
       "      <th>PaperlessBilling</th>\n",
       "      <th>PaymentMethod</th>\n",
       "      <th>MonthlyCharges</th>\n",
       "      <th>TotalCharges</th>\n",
       "      <th>Churn</th>\n",
       "    </tr>\n",
       "  </thead>\n",
       "  <tbody>\n",
       "    <tr>\n",
       "      <td>7038</td>\n",
       "      <td>6840-RESVB</td>\n",
       "      <td>Male</td>\n",
       "      <td>No</td>\n",
       "      <td>Yes</td>\n",
       "      <td>Yes</td>\n",
       "      <td>24</td>\n",
       "      <td>Yes</td>\n",
       "      <td>Yes</td>\n",
       "      <td>DSL</td>\n",
       "      <td>Yes</td>\n",
       "      <td>...</td>\n",
       "      <td>Yes</td>\n",
       "      <td>Yes</td>\n",
       "      <td>Yes</td>\n",
       "      <td>Yes</td>\n",
       "      <td>One year</td>\n",
       "      <td>Yes</td>\n",
       "      <td>Mailed check</td>\n",
       "      <td>84.80</td>\n",
       "      <td>1990.50</td>\n",
       "      <td>0</td>\n",
       "    </tr>\n",
       "    <tr>\n",
       "      <td>7039</td>\n",
       "      <td>2234-XADUH</td>\n",
       "      <td>Female</td>\n",
       "      <td>No</td>\n",
       "      <td>Yes</td>\n",
       "      <td>Yes</td>\n",
       "      <td>72</td>\n",
       "      <td>Yes</td>\n",
       "      <td>Yes</td>\n",
       "      <td>Fiber optic</td>\n",
       "      <td>No</td>\n",
       "      <td>...</td>\n",
       "      <td>Yes</td>\n",
       "      <td>No</td>\n",
       "      <td>Yes</td>\n",
       "      <td>Yes</td>\n",
       "      <td>One year</td>\n",
       "      <td>Yes</td>\n",
       "      <td>Credit card (automatic)</td>\n",
       "      <td>103.20</td>\n",
       "      <td>7362.90</td>\n",
       "      <td>0</td>\n",
       "    </tr>\n",
       "    <tr>\n",
       "      <td>7040</td>\n",
       "      <td>4801-JZAZL</td>\n",
       "      <td>Female</td>\n",
       "      <td>No</td>\n",
       "      <td>Yes</td>\n",
       "      <td>Yes</td>\n",
       "      <td>11</td>\n",
       "      <td>No</td>\n",
       "      <td>No phone service</td>\n",
       "      <td>DSL</td>\n",
       "      <td>Yes</td>\n",
       "      <td>...</td>\n",
       "      <td>No</td>\n",
       "      <td>No</td>\n",
       "      <td>No</td>\n",
       "      <td>No</td>\n",
       "      <td>Month-to-month</td>\n",
       "      <td>Yes</td>\n",
       "      <td>Electronic check</td>\n",
       "      <td>29.60</td>\n",
       "      <td>346.45</td>\n",
       "      <td>0</td>\n",
       "    </tr>\n",
       "    <tr>\n",
       "      <td>7041</td>\n",
       "      <td>8361-LTMKD</td>\n",
       "      <td>Male</td>\n",
       "      <td>Yes</td>\n",
       "      <td>Yes</td>\n",
       "      <td>No</td>\n",
       "      <td>4</td>\n",
       "      <td>Yes</td>\n",
       "      <td>Yes</td>\n",
       "      <td>Fiber optic</td>\n",
       "      <td>No</td>\n",
       "      <td>...</td>\n",
       "      <td>No</td>\n",
       "      <td>No</td>\n",
       "      <td>No</td>\n",
       "      <td>No</td>\n",
       "      <td>Month-to-month</td>\n",
       "      <td>Yes</td>\n",
       "      <td>Mailed check</td>\n",
       "      <td>74.40</td>\n",
       "      <td>306.60</td>\n",
       "      <td>1</td>\n",
       "    </tr>\n",
       "    <tr>\n",
       "      <td>7042</td>\n",
       "      <td>3186-AJIEK</td>\n",
       "      <td>Male</td>\n",
       "      <td>No</td>\n",
       "      <td>No</td>\n",
       "      <td>No</td>\n",
       "      <td>66</td>\n",
       "      <td>Yes</td>\n",
       "      <td>No</td>\n",
       "      <td>Fiber optic</td>\n",
       "      <td>Yes</td>\n",
       "      <td>...</td>\n",
       "      <td>Yes</td>\n",
       "      <td>Yes</td>\n",
       "      <td>Yes</td>\n",
       "      <td>Yes</td>\n",
       "      <td>Two year</td>\n",
       "      <td>Yes</td>\n",
       "      <td>Bank transfer (automatic)</td>\n",
       "      <td>105.65</td>\n",
       "      <td>6844.50</td>\n",
       "      <td>0</td>\n",
       "    </tr>\n",
       "  </tbody>\n",
       "</table>\n",
       "<p>5 rows × 21 columns</p>\n",
       "</div>"
      ],
      "text/plain": [
       "      customerID  Gender SeniorCitizen Partner Dependents  Tenure  \\\n",
       "7038  6840-RESVB    Male            No     Yes        Yes      24   \n",
       "7039  2234-XADUH  Female            No     Yes        Yes      72   \n",
       "7040  4801-JZAZL  Female            No     Yes        Yes      11   \n",
       "7041  8361-LTMKD    Male           Yes     Yes         No       4   \n",
       "7042  3186-AJIEK    Male            No      No         No      66   \n",
       "\n",
       "     PhoneService     MultipleLines InternetService OnlineSecurity  ...  \\\n",
       "7038          Yes               Yes             DSL            Yes  ...   \n",
       "7039          Yes               Yes     Fiber optic             No  ...   \n",
       "7040           No  No phone service             DSL            Yes  ...   \n",
       "7041          Yes               Yes     Fiber optic             No  ...   \n",
       "7042          Yes                No     Fiber optic            Yes  ...   \n",
       "\n",
       "     DeviceProtection TechSupport StreamingTV StreamingMovies        Contract  \\\n",
       "7038              Yes         Yes         Yes             Yes        One year   \n",
       "7039              Yes          No         Yes             Yes        One year   \n",
       "7040               No          No          No              No  Month-to-month   \n",
       "7041               No          No          No              No  Month-to-month   \n",
       "7042              Yes         Yes         Yes             Yes        Two year   \n",
       "\n",
       "     PaperlessBilling              PaymentMethod MonthlyCharges  TotalCharges  \\\n",
       "7038              Yes               Mailed check          84.80       1990.50   \n",
       "7039              Yes    Credit card (automatic)         103.20       7362.90   \n",
       "7040              Yes           Electronic check          29.60        346.45   \n",
       "7041              Yes               Mailed check          74.40        306.60   \n",
       "7042              Yes  Bank transfer (automatic)         105.65       6844.50   \n",
       "\n",
       "      Churn  \n",
       "7038      0  \n",
       "7039      0  \n",
       "7040      0  \n",
       "7041      1  \n",
       "7042      0  \n",
       "\n",
       "[5 rows x 21 columns]"
      ]
     },
     "execution_count": 4,
     "metadata": {},
     "output_type": "execute_result"
    }
   ],
   "source": [
    "df.tail()"
   ]
  },
  {
   "cell_type": "code",
   "execution_count": 5,
   "metadata": {},
   "outputs": [
    {
     "data": {
      "text/html": [
       "<div>\n",
       "<style scoped>\n",
       "    .dataframe tbody tr th:only-of-type {\n",
       "        vertical-align: middle;\n",
       "    }\n",
       "\n",
       "    .dataframe tbody tr th {\n",
       "        vertical-align: top;\n",
       "    }\n",
       "\n",
       "    .dataframe thead th {\n",
       "        text-align: right;\n",
       "    }\n",
       "</style>\n",
       "<table border=\"1\" class=\"dataframe\">\n",
       "  <thead>\n",
       "    <tr style=\"text-align: right;\">\n",
       "      <th></th>\n",
       "      <th>dataFeatures</th>\n",
       "      <th>dataType</th>\n",
       "      <th>null</th>\n",
       "      <th>unique</th>\n",
       "      <th>uniqueSample</th>\n",
       "    </tr>\n",
       "  </thead>\n",
       "  <tbody>\n",
       "    <tr>\n",
       "      <td>0</td>\n",
       "      <td>customerID</td>\n",
       "      <td>object</td>\n",
       "      <td>0</td>\n",
       "      <td>7043</td>\n",
       "      <td>[8311-UEUAB, 8454-AATJP]</td>\n",
       "    </tr>\n",
       "    <tr>\n",
       "      <td>1</td>\n",
       "      <td>Gender</td>\n",
       "      <td>object</td>\n",
       "      <td>0</td>\n",
       "      <td>2</td>\n",
       "      <td>[Female, Male]</td>\n",
       "    </tr>\n",
       "    <tr>\n",
       "      <td>2</td>\n",
       "      <td>SeniorCitizen</td>\n",
       "      <td>object</td>\n",
       "      <td>0</td>\n",
       "      <td>2</td>\n",
       "      <td>[Yes, No]</td>\n",
       "    </tr>\n",
       "    <tr>\n",
       "      <td>3</td>\n",
       "      <td>Partner</td>\n",
       "      <td>object</td>\n",
       "      <td>0</td>\n",
       "      <td>2</td>\n",
       "      <td>[No, Yes]</td>\n",
       "    </tr>\n",
       "    <tr>\n",
       "      <td>4</td>\n",
       "      <td>Dependents</td>\n",
       "      <td>object</td>\n",
       "      <td>0</td>\n",
       "      <td>2</td>\n",
       "      <td>[Yes, No]</td>\n",
       "    </tr>\n",
       "    <tr>\n",
       "      <td>5</td>\n",
       "      <td>Tenure</td>\n",
       "      <td>int64</td>\n",
       "      <td>0</td>\n",
       "      <td>73</td>\n",
       "      <td>[5, 50]</td>\n",
       "    </tr>\n",
       "    <tr>\n",
       "      <td>6</td>\n",
       "      <td>PhoneService</td>\n",
       "      <td>object</td>\n",
       "      <td>0</td>\n",
       "      <td>2</td>\n",
       "      <td>[Yes, No]</td>\n",
       "    </tr>\n",
       "    <tr>\n",
       "      <td>7</td>\n",
       "      <td>MultipleLines</td>\n",
       "      <td>object</td>\n",
       "      <td>0</td>\n",
       "      <td>3</td>\n",
       "      <td>[Yes, No phone service]</td>\n",
       "    </tr>\n",
       "    <tr>\n",
       "      <td>8</td>\n",
       "      <td>InternetService</td>\n",
       "      <td>object</td>\n",
       "      <td>0</td>\n",
       "      <td>3</td>\n",
       "      <td>[DSL, No]</td>\n",
       "    </tr>\n",
       "    <tr>\n",
       "      <td>9</td>\n",
       "      <td>OnlineSecurity</td>\n",
       "      <td>object</td>\n",
       "      <td>0</td>\n",
       "      <td>3</td>\n",
       "      <td>[No, Yes]</td>\n",
       "    </tr>\n",
       "    <tr>\n",
       "      <td>10</td>\n",
       "      <td>OnlineBackup</td>\n",
       "      <td>object</td>\n",
       "      <td>0</td>\n",
       "      <td>3</td>\n",
       "      <td>[Yes, No internet service]</td>\n",
       "    </tr>\n",
       "    <tr>\n",
       "      <td>11</td>\n",
       "      <td>DeviceProtection</td>\n",
       "      <td>object</td>\n",
       "      <td>0</td>\n",
       "      <td>3</td>\n",
       "      <td>[Yes, No internet service]</td>\n",
       "    </tr>\n",
       "    <tr>\n",
       "      <td>12</td>\n",
       "      <td>TechSupport</td>\n",
       "      <td>object</td>\n",
       "      <td>0</td>\n",
       "      <td>3</td>\n",
       "      <td>[Yes, No]</td>\n",
       "    </tr>\n",
       "    <tr>\n",
       "      <td>13</td>\n",
       "      <td>StreamingTV</td>\n",
       "      <td>object</td>\n",
       "      <td>0</td>\n",
       "      <td>3</td>\n",
       "      <td>[No, Yes]</td>\n",
       "    </tr>\n",
       "    <tr>\n",
       "      <td>14</td>\n",
       "      <td>StreamingMovies</td>\n",
       "      <td>object</td>\n",
       "      <td>0</td>\n",
       "      <td>3</td>\n",
       "      <td>[No, No internet service]</td>\n",
       "    </tr>\n",
       "    <tr>\n",
       "      <td>15</td>\n",
       "      <td>Contract</td>\n",
       "      <td>object</td>\n",
       "      <td>0</td>\n",
       "      <td>3</td>\n",
       "      <td>[Two year, One year]</td>\n",
       "    </tr>\n",
       "    <tr>\n",
       "      <td>16</td>\n",
       "      <td>PaperlessBilling</td>\n",
       "      <td>object</td>\n",
       "      <td>0</td>\n",
       "      <td>2</td>\n",
       "      <td>[No, Yes]</td>\n",
       "    </tr>\n",
       "    <tr>\n",
       "      <td>17</td>\n",
       "      <td>PaymentMethod</td>\n",
       "      <td>object</td>\n",
       "      <td>0</td>\n",
       "      <td>4</td>\n",
       "      <td>[Credit card (automatic), Electronic check]</td>\n",
       "    </tr>\n",
       "    <tr>\n",
       "      <td>18</td>\n",
       "      <td>MonthlyCharges</td>\n",
       "      <td>float64</td>\n",
       "      <td>0</td>\n",
       "      <td>1585</td>\n",
       "      <td>[70.75, 53.8]</td>\n",
       "    </tr>\n",
       "    <tr>\n",
       "      <td>19</td>\n",
       "      <td>TotalCharges</td>\n",
       "      <td>float64</td>\n",
       "      <td>0</td>\n",
       "      <td>6531</td>\n",
       "      <td>[2467.75, 3688.6]</td>\n",
       "    </tr>\n",
       "    <tr>\n",
       "      <td>20</td>\n",
       "      <td>Churn</td>\n",
       "      <td>int64</td>\n",
       "      <td>0</td>\n",
       "      <td>2</td>\n",
       "      <td>[0, 1]</td>\n",
       "    </tr>\n",
       "  </tbody>\n",
       "</table>\n",
       "</div>"
      ],
      "text/plain": [
       "        dataFeatures dataType  null  unique  \\\n",
       "0         customerID   object     0    7043   \n",
       "1             Gender   object     0       2   \n",
       "2      SeniorCitizen   object     0       2   \n",
       "3            Partner   object     0       2   \n",
       "4         Dependents   object     0       2   \n",
       "5             Tenure    int64     0      73   \n",
       "6       PhoneService   object     0       2   \n",
       "7      MultipleLines   object     0       3   \n",
       "8    InternetService   object     0       3   \n",
       "9     OnlineSecurity   object     0       3   \n",
       "10      OnlineBackup   object     0       3   \n",
       "11  DeviceProtection   object     0       3   \n",
       "12       TechSupport   object     0       3   \n",
       "13       StreamingTV   object     0       3   \n",
       "14   StreamingMovies   object     0       3   \n",
       "15          Contract   object     0       3   \n",
       "16  PaperlessBilling   object     0       2   \n",
       "17     PaymentMethod   object     0       4   \n",
       "18    MonthlyCharges  float64     0    1585   \n",
       "19      TotalCharges  float64     0    6531   \n",
       "20             Churn    int64     0       2   \n",
       "\n",
       "                                   uniqueSample  \n",
       "0                      [8311-UEUAB, 8454-AATJP]  \n",
       "1                                [Female, Male]  \n",
       "2                                     [Yes, No]  \n",
       "3                                     [No, Yes]  \n",
       "4                                     [Yes, No]  \n",
       "5                                       [5, 50]  \n",
       "6                                     [Yes, No]  \n",
       "7                       [Yes, No phone service]  \n",
       "8                                     [DSL, No]  \n",
       "9                                     [No, Yes]  \n",
       "10                   [Yes, No internet service]  \n",
       "11                   [Yes, No internet service]  \n",
       "12                                    [Yes, No]  \n",
       "13                                    [No, Yes]  \n",
       "14                    [No, No internet service]  \n",
       "15                         [Two year, One year]  \n",
       "16                                    [No, Yes]  \n",
       "17  [Credit card (automatic), Electronic check]  \n",
       "18                                [70.75, 53.8]  \n",
       "19                            [2467.75, 3688.6]  \n",
       "20                                       [0, 1]  "
      ]
     },
     "execution_count": 5,
     "metadata": {},
     "output_type": "execute_result"
    }
   ],
   "source": [
    "pd.DataFrame({'dataFeatures' : df.columns, 'dataType' : df.dtypes, \n",
    "              'null' : df.isna().sum(), 'unique' : df.nunique(), \n",
    "              'uniqueSample' : [list(df[i].drop_duplicates().sample(2))for i in df.columns]}).reset_index(drop = True)"
   ]
  },
  {
   "cell_type": "code",
   "execution_count": 6,
   "metadata": {},
   "outputs": [
    {
     "data": {
      "text/html": [
       "<div>\n",
       "<style scoped>\n",
       "    .dataframe tbody tr th:only-of-type {\n",
       "        vertical-align: middle;\n",
       "    }\n",
       "\n",
       "    .dataframe tbody tr th {\n",
       "        vertical-align: top;\n",
       "    }\n",
       "\n",
       "    .dataframe thead th {\n",
       "        text-align: right;\n",
       "    }\n",
       "</style>\n",
       "<table border=\"1\" class=\"dataframe\">\n",
       "  <thead>\n",
       "    <tr style=\"text-align: right;\">\n",
       "      <th></th>\n",
       "      <th>count</th>\n",
       "      <th>unique</th>\n",
       "      <th>top</th>\n",
       "      <th>freq</th>\n",
       "    </tr>\n",
       "  </thead>\n",
       "  <tbody>\n",
       "    <tr>\n",
       "      <td>customerID</td>\n",
       "      <td>7043</td>\n",
       "      <td>7043</td>\n",
       "      <td>9450-TRJUU</td>\n",
       "      <td>1</td>\n",
       "    </tr>\n",
       "    <tr>\n",
       "      <td>Gender</td>\n",
       "      <td>7043</td>\n",
       "      <td>2</td>\n",
       "      <td>Male</td>\n",
       "      <td>3555</td>\n",
       "    </tr>\n",
       "    <tr>\n",
       "      <td>SeniorCitizen</td>\n",
       "      <td>7043</td>\n",
       "      <td>2</td>\n",
       "      <td>No</td>\n",
       "      <td>5901</td>\n",
       "    </tr>\n",
       "    <tr>\n",
       "      <td>Partner</td>\n",
       "      <td>7043</td>\n",
       "      <td>2</td>\n",
       "      <td>No</td>\n",
       "      <td>3641</td>\n",
       "    </tr>\n",
       "    <tr>\n",
       "      <td>Dependents</td>\n",
       "      <td>7043</td>\n",
       "      <td>2</td>\n",
       "      <td>No</td>\n",
       "      <td>4933</td>\n",
       "    </tr>\n",
       "    <tr>\n",
       "      <td>PhoneService</td>\n",
       "      <td>7043</td>\n",
       "      <td>2</td>\n",
       "      <td>Yes</td>\n",
       "      <td>6361</td>\n",
       "    </tr>\n",
       "    <tr>\n",
       "      <td>MultipleLines</td>\n",
       "      <td>7043</td>\n",
       "      <td>3</td>\n",
       "      <td>No</td>\n",
       "      <td>3390</td>\n",
       "    </tr>\n",
       "    <tr>\n",
       "      <td>InternetService</td>\n",
       "      <td>7043</td>\n",
       "      <td>3</td>\n",
       "      <td>Fiber optic</td>\n",
       "      <td>3096</td>\n",
       "    </tr>\n",
       "    <tr>\n",
       "      <td>OnlineSecurity</td>\n",
       "      <td>7043</td>\n",
       "      <td>3</td>\n",
       "      <td>No</td>\n",
       "      <td>3498</td>\n",
       "    </tr>\n",
       "    <tr>\n",
       "      <td>OnlineBackup</td>\n",
       "      <td>7043</td>\n",
       "      <td>3</td>\n",
       "      <td>No</td>\n",
       "      <td>3088</td>\n",
       "    </tr>\n",
       "    <tr>\n",
       "      <td>DeviceProtection</td>\n",
       "      <td>7043</td>\n",
       "      <td>3</td>\n",
       "      <td>No</td>\n",
       "      <td>3095</td>\n",
       "    </tr>\n",
       "    <tr>\n",
       "      <td>TechSupport</td>\n",
       "      <td>7043</td>\n",
       "      <td>3</td>\n",
       "      <td>No</td>\n",
       "      <td>3473</td>\n",
       "    </tr>\n",
       "    <tr>\n",
       "      <td>StreamingTV</td>\n",
       "      <td>7043</td>\n",
       "      <td>3</td>\n",
       "      <td>No</td>\n",
       "      <td>2810</td>\n",
       "    </tr>\n",
       "    <tr>\n",
       "      <td>StreamingMovies</td>\n",
       "      <td>7043</td>\n",
       "      <td>3</td>\n",
       "      <td>No</td>\n",
       "      <td>2785</td>\n",
       "    </tr>\n",
       "    <tr>\n",
       "      <td>Contract</td>\n",
       "      <td>7043</td>\n",
       "      <td>3</td>\n",
       "      <td>Month-to-month</td>\n",
       "      <td>3875</td>\n",
       "    </tr>\n",
       "    <tr>\n",
       "      <td>PaperlessBilling</td>\n",
       "      <td>7043</td>\n",
       "      <td>2</td>\n",
       "      <td>Yes</td>\n",
       "      <td>4171</td>\n",
       "    </tr>\n",
       "    <tr>\n",
       "      <td>PaymentMethod</td>\n",
       "      <td>7043</td>\n",
       "      <td>4</td>\n",
       "      <td>Electronic check</td>\n",
       "      <td>2365</td>\n",
       "    </tr>\n",
       "  </tbody>\n",
       "</table>\n",
       "</div>"
      ],
      "text/plain": [
       "                 count unique               top  freq\n",
       "customerID        7043   7043        9450-TRJUU     1\n",
       "Gender            7043      2              Male  3555\n",
       "SeniorCitizen     7043      2                No  5901\n",
       "Partner           7043      2                No  3641\n",
       "Dependents        7043      2                No  4933\n",
       "PhoneService      7043      2               Yes  6361\n",
       "MultipleLines     7043      3                No  3390\n",
       "InternetService   7043      3       Fiber optic  3096\n",
       "OnlineSecurity    7043      3                No  3498\n",
       "OnlineBackup      7043      3                No  3088\n",
       "DeviceProtection  7043      3                No  3095\n",
       "TechSupport       7043      3                No  3473\n",
       "StreamingTV       7043      3                No  2810\n",
       "StreamingMovies   7043      3                No  2785\n",
       "Contract          7043      3    Month-to-month  3875\n",
       "PaperlessBilling  7043      2               Yes  4171\n",
       "PaymentMethod     7043      4  Electronic check  2365"
      ]
     },
     "execution_count": 6,
     "metadata": {},
     "output_type": "execute_result"
    }
   ],
   "source": [
    "df.describe(exclude='number').T"
   ]
  },
  {
   "cell_type": "code",
   "execution_count": 7,
   "metadata": {
    "scrolled": true
   },
   "outputs": [
    {
     "data": {
      "text/html": [
       "<div>\n",
       "<style scoped>\n",
       "    .dataframe tbody tr th:only-of-type {\n",
       "        vertical-align: middle;\n",
       "    }\n",
       "\n",
       "    .dataframe tbody tr th {\n",
       "        vertical-align: top;\n",
       "    }\n",
       "\n",
       "    .dataframe thead th {\n",
       "        text-align: right;\n",
       "    }\n",
       "</style>\n",
       "<table border=\"1\" class=\"dataframe\">\n",
       "  <thead>\n",
       "    <tr style=\"text-align: right;\">\n",
       "      <th></th>\n",
       "      <th>Tenure</th>\n",
       "      <th>MonthlyCharges</th>\n",
       "      <th>TotalCharges</th>\n",
       "      <th>Churn</th>\n",
       "    </tr>\n",
       "  </thead>\n",
       "  <tbody>\n",
       "    <tr>\n",
       "      <td>count</td>\n",
       "      <td>7043.000000</td>\n",
       "      <td>7043.000000</td>\n",
       "      <td>7043.000000</td>\n",
       "      <td>7043.000000</td>\n",
       "    </tr>\n",
       "    <tr>\n",
       "      <td>mean</td>\n",
       "      <td>32.371149</td>\n",
       "      <td>64.761692</td>\n",
       "      <td>2279.734304</td>\n",
       "      <td>0.265370</td>\n",
       "    </tr>\n",
       "    <tr>\n",
       "      <td>std</td>\n",
       "      <td>24.559481</td>\n",
       "      <td>30.090047</td>\n",
       "      <td>2266.794470</td>\n",
       "      <td>0.441561</td>\n",
       "    </tr>\n",
       "    <tr>\n",
       "      <td>min</td>\n",
       "      <td>0.000000</td>\n",
       "      <td>18.250000</td>\n",
       "      <td>0.000000</td>\n",
       "      <td>0.000000</td>\n",
       "    </tr>\n",
       "    <tr>\n",
       "      <td>25%</td>\n",
       "      <td>9.000000</td>\n",
       "      <td>35.500000</td>\n",
       "      <td>398.550000</td>\n",
       "      <td>0.000000</td>\n",
       "    </tr>\n",
       "    <tr>\n",
       "      <td>50%</td>\n",
       "      <td>29.000000</td>\n",
       "      <td>70.350000</td>\n",
       "      <td>1394.550000</td>\n",
       "      <td>0.000000</td>\n",
       "    </tr>\n",
       "    <tr>\n",
       "      <td>75%</td>\n",
       "      <td>55.000000</td>\n",
       "      <td>89.850000</td>\n",
       "      <td>3786.600000</td>\n",
       "      <td>1.000000</td>\n",
       "    </tr>\n",
       "    <tr>\n",
       "      <td>max</td>\n",
       "      <td>72.000000</td>\n",
       "      <td>118.750000</td>\n",
       "      <td>8684.800000</td>\n",
       "      <td>1.000000</td>\n",
       "    </tr>\n",
       "  </tbody>\n",
       "</table>\n",
       "</div>"
      ],
      "text/plain": [
       "            Tenure  MonthlyCharges  TotalCharges        Churn\n",
       "count  7043.000000     7043.000000   7043.000000  7043.000000\n",
       "mean     32.371149       64.761692   2279.734304     0.265370\n",
       "std      24.559481       30.090047   2266.794470     0.441561\n",
       "min       0.000000       18.250000      0.000000     0.000000\n",
       "25%       9.000000       35.500000    398.550000     0.000000\n",
       "50%      29.000000       70.350000   1394.550000     0.000000\n",
       "75%      55.000000       89.850000   3786.600000     1.000000\n",
       "max      72.000000      118.750000   8684.800000     1.000000"
      ]
     },
     "execution_count": 7,
     "metadata": {},
     "output_type": "execute_result"
    }
   ],
   "source": [
    "df.describe()"
   ]
  },
  {
   "cell_type": "markdown",
   "metadata": {},
   "source": [
    "### SCALING"
   ]
  },
  {
   "cell_type": "markdown",
   "metadata": {},
   "source": [
    "Scaling means changing the range of the values of the datas. However the shape of the distribution doesn’t change. We do this so that our Models are having better prformance, as it can help features arrive in more digestible form for these algorithms. Many machine learning algorithms perform better or converge faster when features are on a relatively similar scale. \n",
    "\n",
    "To scale our datas, there are some scaling methods we can choose according to their conditions. Typically there are :"
   ]
  },
  {
   "cell_type": "markdown",
   "metadata": {},
   "source": [
    "- Standard Scaler : This method removes the mean and scales the data to unit variance. However, the outliers have an influence when computing the empirical mean and standard deviation which shrink the range of the feature values.\n",
    "\n",
    "\n",
    "- Min Max Scaler : This method rescales the data set such that all feature values are in the range of 0 to 1. However, this scaling is very sensitive to the presence of outliers.\n",
    "\n",
    "\n",
    "- Robust Scaler : Robust scaler centering and scaling statistics of this scaler are based on percentiles and are therefore not influenced by a few number of very large marginal outliers."
   ]
  },
  {
   "cell_type": "markdown",
   "metadata": {},
   "source": [
    "First we do goodness of fit test to our continous datas using anderson method below :"
   ]
  },
  {
   "cell_type": "code",
   "execution_count": 8,
   "metadata": {},
   "outputs": [],
   "source": [
    "def normal(df):\n",
    "    \n",
    "    stat = anderson(df)[0]\n",
    "    cval = anderson(df)[1][2]\n",
    "    if stat < cval :\n",
    "        print('NORMALLY Distributed for ' + col + ' Variable')\n",
    "    else :\n",
    "        print('NOT NORMALLY Distributed for ' + col + ' Variable')"
   ]
  },
  {
   "cell_type": "code",
   "execution_count": 9,
   "metadata": {},
   "outputs": [],
   "source": [
    "df_cont = df.loc[:, df.dtypes != np.object].drop('Churn', axis = 1)"
   ]
  },
  {
   "cell_type": "code",
   "execution_count": 10,
   "metadata": {},
   "outputs": [
    {
     "name": "stdout",
     "output_type": "stream",
     "text": [
      "NOT NORMALLY Distributed for Tenure Variable\n",
      "NOT NORMALLY Distributed for MonthlyCharges Variable\n",
      "NOT NORMALLY Distributed for TotalCharges Variable\n"
     ]
    }
   ],
   "source": [
    "for col in df_cont :\n",
    "    normal(df_cont[col])"
   ]
  },
  {
   "cell_type": "markdown",
   "metadata": {},
   "source": [
    "As we can see the Anderson result indicated that our datas are not normally distributed. Let's visualize it using qqplot below :"
   ]
  },
  {
   "cell_type": "code",
   "execution_count": 11,
   "metadata": {},
   "outputs": [
    {
     "data": {
      "text/plain": [
       "<Figure size 720x360 with 0 Axes>"
      ]
     },
     "metadata": {},
     "output_type": "display_data"
    },
    {
     "data": {
      "image/png": "[encoded data removed]",
      "text/plain": [
       "<Figure size 432x288 with 1 Axes>"
      ]
     },
     "metadata": {
      "needs_background": "light"
     },
     "output_type": "display_data"
    },
    {
     "data": {
      "text/plain": [
       "<Figure size 720x360 with 0 Axes>"
      ]
     },
     "metadata": {},
     "output_type": "display_data"
    },
    {
     "data": {
      "image/png": "[encoded data removed]",
      "text/plain": [
       "<Figure size 432x288 with 1 Axes>"
      ]
     },
     "metadata": {
      "needs_background": "light"
     },
     "output_type": "display_data"
    },
    {
     "data": {
      "text/plain": [
       "<Figure size 720x360 with 0 Axes>"
      ]
     },
     "metadata": {},
     "output_type": "display_data"
    },
    {
     "data": {
      "image/png": "[encoded data removed]",
      "text/plain": [
       "<Figure size 432x288 with 1 Axes>"
      ]
     },
     "metadata": {
      "needs_background": "light"
     },
     "output_type": "display_data"
    }
   ],
   "source": [
    "for col in df_cont :\n",
    "    \n",
    "    plt.figure(figsize = (10,5))\n",
    "    \n",
    "    sm.qqplot(df[col], line = '45')\n",
    "    plt.xlabel(col, fontsize = 12)\n",
    "    plt.title('QQ PLOT of ' + col, fontsize = 22)\n",
    "    \n",
    "    plt.tight_layout()\n",
    "    plt.show()"
   ]
  },
  {
   "cell_type": "markdown",
   "metadata": {},
   "source": [
    "The qq plot, is a graphical tool to help us assess if a set of data plausibly came from some theoretical distribution (ex. Normal Distribution). If it is true, then we should see the data points forming a line that’s roughly straight. However, in this datas we see that the data points (it's the blue color) are not following the red line. Therefore we can assume that it's not coming from a Normal Distribution. Therefore we're not choosing the Standard Scaler, as there are more method to choose from. Hence we are moving to next test."
   ]
  },
  {
   "cell_type": "markdown",
   "metadata": {},
   "source": [
    "Below, I'd like to check whether our datas are having many outliers or not, because if it is, we're going to choose the Robust Scaler method."
   ]
  },
  {
   "cell_type": "code",
   "execution_count": 12,
   "metadata": {},
   "outputs": [],
   "source": [
    "def outliers(df):\n",
    "    Q2 = np.quantile(df, 0.50)\n",
    "    Q1 = np.quantile(df, 0.25)\n",
    "    Q3 = np.quantile(df, 0.75)\n",
    "    \n",
    "    IQR   = (Q3 - Q1) * 1.5\n",
    "    lower =  Q1 - IQR\n",
    "    upper =  Q3 + IQR \n",
    "\n",
    "    outlier = ''\n",
    "    for i in range(len(df)):\n",
    "        if df[i] > upper :\n",
    "            outlier = outlier + str(df[i]) + ', '\n",
    "        if df[i] < lower :\n",
    "            outlier = outlier + str(df[i]) + ', '\n",
    "    return len(outlier)"
   ]
  },
  {
   "cell_type": "code",
   "execution_count": 13,
   "metadata": {},
   "outputs": [
    {
     "name": "stdout",
     "output_type": "stream",
     "text": [
      "There are 0 Outliers on Tenure Variable\n",
      "There are 0 Outliers on MonthlyCharges Variable\n",
      "There are 0 Outliers on TotalCharges Variable\n"
     ]
    }
   ],
   "source": [
    "for col in df_cont:\n",
    "    outlier = outliers(df[col])\n",
    "    print('There are', outlier, 'Outliers on', col, 'Variable')"
   ]
  },
  {
   "cell_type": "markdown",
   "metadata": {},
   "source": [
    "Seems there are no outliers in our datas, I'll try to visualize it below with boxplot. The boxplot are mainly used to display the distribution of data based on a five number summary : minimum, first quartile (Q1), median, third quartile (Q3), and maximum. Therefore it can also detect the outliers."
   ]
  },
  {
   "cell_type": "code",
   "execution_count": 14,
   "metadata": {
    "scrolled": false
   },
   "outputs": [
    {
     "data": {
      "image/png": "[encoded data removed]",
      "text/plain": [
       "<Figure size 648x504 with 1 Axes>"
      ]
     },
     "metadata": {
      "needs_background": "light"
     },
     "output_type": "display_data"
    }
   ],
   "source": [
    "plt.figure(figsize = (9,7))\n",
    "sns.boxplot(data=df_cont)\n",
    "plt.show()"
   ]
  },
  {
   "cell_type": "markdown",
   "metadata": {},
   "source": [
    "This proof that our datas does not have any outliers, so that using Robust Scaler is not necessary. Then this means that we will scale our datas using Min Max Scaler."
   ]
  },
  {
   "cell_type": "code",
   "execution_count": 15,
   "metadata": {},
   "outputs": [],
   "source": [
    "df_scaled = df.copy()"
   ]
  },
  {
   "cell_type": "code",
   "execution_count": 16,
   "metadata": {},
   "outputs": [],
   "source": [
    "# using MinMax Scaler to scale data\n",
    "\n",
    "df_scaled['Tenure'] = MinMaxScaler().fit_transform(df_scaled[['Tenure']])\n",
    "df_scaled['MonthlyCharges'] = MinMaxScaler().fit_transform(df_scaled[['MonthlyCharges']])\n",
    "df_scaled['TotalCharges'] = MinMaxScaler().fit_transform(df_scaled[['TotalCharges']])"
   ]
  },
  {
   "cell_type": "code",
   "execution_count": 17,
   "metadata": {},
   "outputs": [
    {
     "data": {
      "text/html": [
       "<div>\n",
       "<style scoped>\n",
       "    .dataframe tbody tr th:only-of-type {\n",
       "        vertical-align: middle;\n",
       "    }\n",
       "\n",
       "    .dataframe tbody tr th {\n",
       "        vertical-align: top;\n",
       "    }\n",
       "\n",
       "    .dataframe thead th {\n",
       "        text-align: right;\n",
       "    }\n",
       "</style>\n",
       "<table border=\"1\" class=\"dataframe\">\n",
       "  <thead>\n",
       "    <tr style=\"text-align: right;\">\n",
       "      <th></th>\n",
       "      <th>customerID</th>\n",
       "      <th>Gender</th>\n",
       "      <th>SeniorCitizen</th>\n",
       "      <th>Partner</th>\n",
       "      <th>Dependents</th>\n",
       "      <th>Tenure</th>\n",
       "      <th>PhoneService</th>\n",
       "      <th>MultipleLines</th>\n",
       "      <th>InternetService</th>\n",
       "      <th>OnlineSecurity</th>\n",
       "      <th>...</th>\n",
       "      <th>DeviceProtection</th>\n",
       "      <th>TechSupport</th>\n",
       "      <th>StreamingTV</th>\n",
       "      <th>StreamingMovies</th>\n",
       "      <th>Contract</th>\n",
       "      <th>PaperlessBilling</th>\n",
       "      <th>PaymentMethod</th>\n",
       "      <th>MonthlyCharges</th>\n",
       "      <th>TotalCharges</th>\n",
       "      <th>Churn</th>\n",
       "    </tr>\n",
       "  </thead>\n",
       "  <tbody>\n",
       "    <tr>\n",
       "      <td>0</td>\n",
       "      <td>7590-VHVEG</td>\n",
       "      <td>Female</td>\n",
       "      <td>No</td>\n",
       "      <td>Yes</td>\n",
       "      <td>No</td>\n",
       "      <td>0.013889</td>\n",
       "      <td>No</td>\n",
       "      <td>No phone service</td>\n",
       "      <td>DSL</td>\n",
       "      <td>No</td>\n",
       "      <td>...</td>\n",
       "      <td>No</td>\n",
       "      <td>No</td>\n",
       "      <td>No</td>\n",
       "      <td>No</td>\n",
       "      <td>Month-to-month</td>\n",
       "      <td>Yes</td>\n",
       "      <td>Electronic check</td>\n",
       "      <td>0.115423</td>\n",
       "      <td>0.003437</td>\n",
       "      <td>0</td>\n",
       "    </tr>\n",
       "    <tr>\n",
       "      <td>1</td>\n",
       "      <td>5575-GNVDE</td>\n",
       "      <td>Male</td>\n",
       "      <td>No</td>\n",
       "      <td>No</td>\n",
       "      <td>No</td>\n",
       "      <td>0.472222</td>\n",
       "      <td>Yes</td>\n",
       "      <td>No</td>\n",
       "      <td>DSL</td>\n",
       "      <td>Yes</td>\n",
       "      <td>...</td>\n",
       "      <td>Yes</td>\n",
       "      <td>No</td>\n",
       "      <td>No</td>\n",
       "      <td>No</td>\n",
       "      <td>One year</td>\n",
       "      <td>No</td>\n",
       "      <td>Mailed check</td>\n",
       "      <td>0.385075</td>\n",
       "      <td>0.217564</td>\n",
       "      <td>0</td>\n",
       "    </tr>\n",
       "    <tr>\n",
       "      <td>2</td>\n",
       "      <td>3668-QPYBK</td>\n",
       "      <td>Male</td>\n",
       "      <td>No</td>\n",
       "      <td>No</td>\n",
       "      <td>No</td>\n",
       "      <td>0.027778</td>\n",
       "      <td>Yes</td>\n",
       "      <td>No</td>\n",
       "      <td>DSL</td>\n",
       "      <td>Yes</td>\n",
       "      <td>...</td>\n",
       "      <td>No</td>\n",
       "      <td>No</td>\n",
       "      <td>No</td>\n",
       "      <td>No</td>\n",
       "      <td>Month-to-month</td>\n",
       "      <td>Yes</td>\n",
       "      <td>Mailed check</td>\n",
       "      <td>0.354229</td>\n",
       "      <td>0.012453</td>\n",
       "      <td>1</td>\n",
       "    </tr>\n",
       "    <tr>\n",
       "      <td>3</td>\n",
       "      <td>7795-CFOCW</td>\n",
       "      <td>Male</td>\n",
       "      <td>No</td>\n",
       "      <td>No</td>\n",
       "      <td>No</td>\n",
       "      <td>0.625000</td>\n",
       "      <td>No</td>\n",
       "      <td>No phone service</td>\n",
       "      <td>DSL</td>\n",
       "      <td>Yes</td>\n",
       "      <td>...</td>\n",
       "      <td>Yes</td>\n",
       "      <td>Yes</td>\n",
       "      <td>No</td>\n",
       "      <td>No</td>\n",
       "      <td>One year</td>\n",
       "      <td>No</td>\n",
       "      <td>Bank transfer (automatic)</td>\n",
       "      <td>0.239303</td>\n",
       "      <td>0.211951</td>\n",
       "      <td>0</td>\n",
       "    </tr>\n",
       "    <tr>\n",
       "      <td>4</td>\n",
       "      <td>9237-HQITU</td>\n",
       "      <td>Female</td>\n",
       "      <td>No</td>\n",
       "      <td>No</td>\n",
       "      <td>No</td>\n",
       "      <td>0.027778</td>\n",
       "      <td>Yes</td>\n",
       "      <td>No</td>\n",
       "      <td>Fiber optic</td>\n",
       "      <td>No</td>\n",
       "      <td>...</td>\n",
       "      <td>No</td>\n",
       "      <td>No</td>\n",
       "      <td>No</td>\n",
       "      <td>No</td>\n",
       "      <td>Month-to-month</td>\n",
       "      <td>Yes</td>\n",
       "      <td>Electronic check</td>\n",
       "      <td>0.521891</td>\n",
       "      <td>0.017462</td>\n",
       "      <td>1</td>\n",
       "    </tr>\n",
       "  </tbody>\n",
       "</table>\n",
       "<p>5 rows × 21 columns</p>\n",
       "</div>"
      ],
      "text/plain": [
       "   customerID  Gender SeniorCitizen Partner Dependents    Tenure PhoneService  \\\n",
       "0  7590-VHVEG  Female            No     Yes         No  0.013889           No   \n",
       "1  5575-GNVDE    Male            No      No         No  0.472222          Yes   \n",
       "2  3668-QPYBK    Male            No      No         No  0.027778          Yes   \n",
       "3  7795-CFOCW    Male            No      No         No  0.625000           No   \n",
       "4  9237-HQITU  Female            No      No         No  0.027778          Yes   \n",
       "\n",
       "      MultipleLines InternetService OnlineSecurity  ... DeviceProtection  \\\n",
       "0  No phone service             DSL             No  ...               No   \n",
       "1                No             DSL            Yes  ...              Yes   \n",
       "2                No             DSL            Yes  ...               No   \n",
       "3  No phone service             DSL            Yes  ...              Yes   \n",
       "4                No     Fiber optic             No  ...               No   \n",
       "\n",
       "  TechSupport StreamingTV StreamingMovies        Contract PaperlessBilling  \\\n",
       "0          No          No              No  Month-to-month              Yes   \n",
       "1          No          No              No        One year               No   \n",
       "2          No          No              No  Month-to-month              Yes   \n",
       "3         Yes          No              No        One year               No   \n",
       "4          No          No              No  Month-to-month              Yes   \n",
       "\n",
       "               PaymentMethod MonthlyCharges  TotalCharges  Churn  \n",
       "0           Electronic check       0.115423      0.003437      0  \n",
       "1               Mailed check       0.385075      0.217564      0  \n",
       "2               Mailed check       0.354229      0.012453      1  \n",
       "3  Bank transfer (automatic)       0.239303      0.211951      0  \n",
       "4           Electronic check       0.521891      0.017462      1  \n",
       "\n",
       "[5 rows x 21 columns]"
      ]
     },
     "execution_count": 17,
     "metadata": {},
     "output_type": "execute_result"
    }
   ],
   "source": [
    "df_scaled.head()"
   ]
  },
  {
   "cell_type": "markdown",
   "metadata": {},
   "source": [
    "From the data above we can see that we have successfully scaled our data. Let's try to visualize it using boxplot, and see the differences between before and after scaling."
   ]
  },
  {
   "cell_type": "code",
   "execution_count": 18,
   "metadata": {},
   "outputs": [
    {
     "data": {
      "image/png": "[encoded data removed]",
      "text/plain": [
       "<Figure size 720x720 with 2 Axes>"
      ]
     },
     "metadata": {
      "needs_background": "light"
     },
     "output_type": "display_data"
    }
   ],
   "source": [
    "fig, (ax1,ax2) = plt.subplots(2,1, figsize=(10,10))\n",
    "\n",
    "sns.boxplot(data = df_cont, ax=ax1).title.set_text('UNSCALED')\n",
    "sns.boxplot(data = df_scaled.drop(columns = 'Churn'), ax=ax2).title.set_text('SCALED')\n",
    "\n",
    "plt.show()"
   ]
  },
  {
   "cell_type": "markdown",
   "metadata": {},
   "source": [
    "Now we're ready to move on to the prediction model building, but before that I'll create copy of our scaled, so that we're not getting mixed up in the process."
   ]
  },
  {
   "cell_type": "code",
   "execution_count": 19,
   "metadata": {},
   "outputs": [],
   "source": [
    "df_ready = df_scaled.copy()"
   ]
  },
  {
   "cell_type": "markdown",
   "metadata": {},
   "source": [
    "I rather drop the *customerID* as it's just the same as index. "
   ]
  },
  {
   "cell_type": "code",
   "execution_count": 20,
   "metadata": {},
   "outputs": [],
   "source": [
    "df_ready = df_ready.drop('customerID', axis = 1)"
   ]
  },
  {
   "cell_type": "markdown",
   "metadata": {},
   "source": [
    "I'll use `pd.get_dummies` to get our data labelled."
   ]
  },
  {
   "cell_type": "code",
   "execution_count": 21,
   "metadata": {},
   "outputs": [],
   "source": [
    "df_ready = pd.get_dummies(df_ready)"
   ]
  },
  {
   "cell_type": "code",
   "execution_count": 22,
   "metadata": {},
   "outputs": [
    {
     "data": {
      "text/html": [
       "<div>\n",
       "<style scoped>\n",
       "    .dataframe tbody tr th:only-of-type {\n",
       "        vertical-align: middle;\n",
       "    }\n",
       "\n",
       "    .dataframe tbody tr th {\n",
       "        vertical-align: top;\n",
       "    }\n",
       "\n",
       "    .dataframe thead th {\n",
       "        text-align: right;\n",
       "    }\n",
       "</style>\n",
       "<table border=\"1\" class=\"dataframe\">\n",
       "  <thead>\n",
       "    <tr style=\"text-align: right;\">\n",
       "      <th></th>\n",
       "      <th>Tenure</th>\n",
       "      <th>MonthlyCharges</th>\n",
       "      <th>TotalCharges</th>\n",
       "      <th>Churn</th>\n",
       "      <th>Gender_Female</th>\n",
       "      <th>Gender_Male</th>\n",
       "      <th>SeniorCitizen_No</th>\n",
       "      <th>SeniorCitizen_Yes</th>\n",
       "      <th>Partner_No</th>\n",
       "      <th>Partner_Yes</th>\n",
       "      <th>...</th>\n",
       "      <th>StreamingMovies_Yes</th>\n",
       "      <th>Contract_Month-to-month</th>\n",
       "      <th>Contract_One year</th>\n",
       "      <th>Contract_Two year</th>\n",
       "      <th>PaperlessBilling_No</th>\n",
       "      <th>PaperlessBilling_Yes</th>\n",
       "      <th>PaymentMethod_Bank transfer (automatic)</th>\n",
       "      <th>PaymentMethod_Credit card (automatic)</th>\n",
       "      <th>PaymentMethod_Electronic check</th>\n",
       "      <th>PaymentMethod_Mailed check</th>\n",
       "    </tr>\n",
       "  </thead>\n",
       "  <tbody>\n",
       "    <tr>\n",
       "      <td>0</td>\n",
       "      <td>0.013889</td>\n",
       "      <td>0.115423</td>\n",
       "      <td>0.003437</td>\n",
       "      <td>0</td>\n",
       "      <td>1</td>\n",
       "      <td>0</td>\n",
       "      <td>1</td>\n",
       "      <td>0</td>\n",
       "      <td>0</td>\n",
       "      <td>1</td>\n",
       "      <td>...</td>\n",
       "      <td>0</td>\n",
       "      <td>1</td>\n",
       "      <td>0</td>\n",
       "      <td>0</td>\n",
       "      <td>0</td>\n",
       "      <td>1</td>\n",
       "      <td>0</td>\n",
       "      <td>0</td>\n",
       "      <td>1</td>\n",
       "      <td>0</td>\n",
       "    </tr>\n",
       "    <tr>\n",
       "      <td>1</td>\n",
       "      <td>0.472222</td>\n",
       "      <td>0.385075</td>\n",
       "      <td>0.217564</td>\n",
       "      <td>0</td>\n",
       "      <td>0</td>\n",
       "      <td>1</td>\n",
       "      <td>1</td>\n",
       "      <td>0</td>\n",
       "      <td>1</td>\n",
       "      <td>0</td>\n",
       "      <td>...</td>\n",
       "      <td>0</td>\n",
       "      <td>0</td>\n",
       "      <td>1</td>\n",
       "      <td>0</td>\n",
       "      <td>1</td>\n",
       "      <td>0</td>\n",
       "      <td>0</td>\n",
       "      <td>0</td>\n",
       "      <td>0</td>\n",
       "      <td>1</td>\n",
       "    </tr>\n",
       "    <tr>\n",
       "      <td>2</td>\n",
       "      <td>0.027778</td>\n",
       "      <td>0.354229</td>\n",
       "      <td>0.012453</td>\n",
       "      <td>1</td>\n",
       "      <td>0</td>\n",
       "      <td>1</td>\n",
       "      <td>1</td>\n",
       "      <td>0</td>\n",
       "      <td>1</td>\n",
       "      <td>0</td>\n",
       "      <td>...</td>\n",
       "      <td>0</td>\n",
       "      <td>1</td>\n",
       "      <td>0</td>\n",
       "      <td>0</td>\n",
       "      <td>0</td>\n",
       "      <td>1</td>\n",
       "      <td>0</td>\n",
       "      <td>0</td>\n",
       "      <td>0</td>\n",
       "      <td>1</td>\n",
       "    </tr>\n",
       "    <tr>\n",
       "      <td>3</td>\n",
       "      <td>0.625000</td>\n",
       "      <td>0.239303</td>\n",
       "      <td>0.211951</td>\n",
       "      <td>0</td>\n",
       "      <td>0</td>\n",
       "      <td>1</td>\n",
       "      <td>1</td>\n",
       "      <td>0</td>\n",
       "      <td>1</td>\n",
       "      <td>0</td>\n",
       "      <td>...</td>\n",
       "      <td>0</td>\n",
       "      <td>0</td>\n",
       "      <td>1</td>\n",
       "      <td>0</td>\n",
       "      <td>1</td>\n",
       "      <td>0</td>\n",
       "      <td>1</td>\n",
       "      <td>0</td>\n",
       "      <td>0</td>\n",
       "      <td>0</td>\n",
       "    </tr>\n",
       "    <tr>\n",
       "      <td>4</td>\n",
       "      <td>0.027778</td>\n",
       "      <td>0.521891</td>\n",
       "      <td>0.017462</td>\n",
       "      <td>1</td>\n",
       "      <td>1</td>\n",
       "      <td>0</td>\n",
       "      <td>1</td>\n",
       "      <td>0</td>\n",
       "      <td>1</td>\n",
       "      <td>0</td>\n",
       "      <td>...</td>\n",
       "      <td>0</td>\n",
       "      <td>1</td>\n",
       "      <td>0</td>\n",
       "      <td>0</td>\n",
       "      <td>0</td>\n",
       "      <td>1</td>\n",
       "      <td>0</td>\n",
       "      <td>0</td>\n",
       "      <td>1</td>\n",
       "      <td>0</td>\n",
       "    </tr>\n",
       "  </tbody>\n",
       "</table>\n",
       "<p>5 rows × 47 columns</p>\n",
       "</div>"
      ],
      "text/plain": [
       "     Tenure  MonthlyCharges  TotalCharges  Churn  Gender_Female  Gender_Male  \\\n",
       "0  0.013889        0.115423      0.003437      0              1            0   \n",
       "1  0.472222        0.385075      0.217564      0              0            1   \n",
       "2  0.027778        0.354229      0.012453      1              0            1   \n",
       "3  0.625000        0.239303      0.211951      0              0            1   \n",
       "4  0.027778        0.521891      0.017462      1              1            0   \n",
       "\n",
       "   SeniorCitizen_No  SeniorCitizen_Yes  Partner_No  Partner_Yes  ...  \\\n",
       "0                 1                  0           0            1  ...   \n",
       "1                 1                  0           1            0  ...   \n",
       "2                 1                  0           1            0  ...   \n",
       "3                 1                  0           1            0  ...   \n",
       "4                 1                  0           1            0  ...   \n",
       "\n",
       "   StreamingMovies_Yes  Contract_Month-to-month  Contract_One year  \\\n",
       "0                    0                        1                  0   \n",
       "1                    0                        0                  1   \n",
       "2                    0                        1                  0   \n",
       "3                    0                        0                  1   \n",
       "4                    0                        1                  0   \n",
       "\n",
       "   Contract_Two year  PaperlessBilling_No  PaperlessBilling_Yes  \\\n",
       "0                  0                    0                     1   \n",
       "1                  0                    1                     0   \n",
       "2                  0                    0                     1   \n",
       "3                  0                    1                     0   \n",
       "4                  0                    0                     1   \n",
       "\n",
       "   PaymentMethod_Bank transfer (automatic)  \\\n",
       "0                                        0   \n",
       "1                                        0   \n",
       "2                                        0   \n",
       "3                                        1   \n",
       "4                                        0   \n",
       "\n",
       "   PaymentMethod_Credit card (automatic)  PaymentMethod_Electronic check  \\\n",
       "0                                      0                               1   \n",
       "1                                      0                               0   \n",
       "2                                      0                               0   \n",
       "3                                      0                               0   \n",
       "4                                      0                               1   \n",
       "\n",
       "   PaymentMethod_Mailed check  \n",
       "0                           0  \n",
       "1                           1  \n",
       "2                           1  \n",
       "3                           0  \n",
       "4                           0  \n",
       "\n",
       "[5 rows x 47 columns]"
      ]
     },
     "execution_count": 22,
     "metadata": {},
     "output_type": "execute_result"
    }
   ],
   "source": [
    "df_ready.head()"
   ]
  },
  {
   "cell_type": "markdown",
   "metadata": {},
   "source": [
    "#### PARAMETERS FOR HYPERPARAMETER"
   ]
  },
  {
   "cell_type": "markdown",
   "metadata": {},
   "source": [
    "As mentioned, we will set our parameters for Hyperparameter tuning. A hyperparameter is a parameter whose value is used to control the machine learning process. Usually in most cases the models performed better by using this method."
   ]
  },
  {
   "cell_type": "code",
   "execution_count": 23,
   "metadata": {},
   "outputs": [],
   "source": [
    "#LogRegression\n",
    "penalty = ['l1', 'l2', 'elasticnet', 'none']\n",
    "solver = ['newton-cg', 'lbfgs', 'liblinear', 'sag', 'saga']\n",
    "max_iter = [10, 100, 1000]\n",
    "LRG_param = {'penalty' : penalty, 'solver': solver, 'max_iter' : max_iter}"
   ]
  },
  {
   "cell_type": "code",
   "execution_count": 24,
   "metadata": {},
   "outputs": [],
   "source": [
    "#Random Forest\n",
    "max_depth = [10, 20, 40, 'None']\n",
    "min_samples_leaf = [2, 4]\n",
    "min_samples_split = [2, 10]\n",
    "n_estimators = [10, 100]\n",
    "\n",
    "RFC_param = {'max_depth' : max_depth, 'min_samples_leaf': min_samples_leaf, 'min_samples_split' : min_samples_split, 'n_estimators' : n_estimators}"
   ]
  },
  {
   "cell_type": "code",
   "execution_count": 25,
   "metadata": {},
   "outputs": [],
   "source": [
    "#KNN\n",
    "leaf_size = list(range(1, 50))\n",
    "n_neighbors = list(range(1, 30))\n",
    "p=[1,2]\n",
    "\n",
    "KNN_param = {'leaf_size' : leaf_size, 'n_neighbors' : n_neighbors, 'p' : p}"
   ]
  },
  {
   "cell_type": "markdown",
   "metadata": {},
   "source": [
    "Now that we've finished our parameters, let's start building our predictive Models. I'll start by splitting our data to 80% Train and 20% test data first."
   ]
  },
  {
   "cell_type": "markdown",
   "metadata": {},
   "source": [
    "### Splitting Train Data - 80%"
   ]
  },
  {
   "cell_type": "markdown",
   "metadata": {},
   "source": [
    "From this point forward we will be focusing on building our predictive model, I'll start this by splitting our data, then fitting and re-evaluating the models by comparing using hyperparameters."
   ]
  },
  {
   "cell_type": "code",
   "execution_count": 26,
   "metadata": {},
   "outputs": [],
   "source": [
    "df_80 = df_ready.copy()"
   ]
  },
  {
   "cell_type": "code",
   "execution_count": 27,
   "metadata": {},
   "outputs": [],
   "source": [
    "x = df_80.drop(columns = ['Churn'])\n",
    "y = df_80['Churn'].values"
   ]
  },
  {
   "cell_type": "code",
   "execution_count": 28,
   "metadata": {
    "scrolled": true
   },
   "outputs": [
    {
     "data": {
      "text/html": [
       "<div>\n",
       "<style scoped>\n",
       "    .dataframe tbody tr th:only-of-type {\n",
       "        vertical-align: middle;\n",
       "    }\n",
       "\n",
       "    .dataframe tbody tr th {\n",
       "        vertical-align: top;\n",
       "    }\n",
       "\n",
       "    .dataframe thead th {\n",
       "        text-align: right;\n",
       "    }\n",
       "</style>\n",
       "<table border=\"1\" class=\"dataframe\">\n",
       "  <thead>\n",
       "    <tr style=\"text-align: right;\">\n",
       "      <th></th>\n",
       "      <th>Tenure</th>\n",
       "      <th>MonthlyCharges</th>\n",
       "      <th>TotalCharges</th>\n",
       "      <th>Gender_Female</th>\n",
       "      <th>Gender_Male</th>\n",
       "      <th>SeniorCitizen_No</th>\n",
       "      <th>SeniorCitizen_Yes</th>\n",
       "      <th>Partner_No</th>\n",
       "      <th>Partner_Yes</th>\n",
       "      <th>Dependents_No</th>\n",
       "      <th>...</th>\n",
       "      <th>StreamingMovies_Yes</th>\n",
       "      <th>Contract_Month-to-month</th>\n",
       "      <th>Contract_One year</th>\n",
       "      <th>Contract_Two year</th>\n",
       "      <th>PaperlessBilling_No</th>\n",
       "      <th>PaperlessBilling_Yes</th>\n",
       "      <th>PaymentMethod_Bank transfer (automatic)</th>\n",
       "      <th>PaymentMethod_Credit card (automatic)</th>\n",
       "      <th>PaymentMethod_Electronic check</th>\n",
       "      <th>PaymentMethod_Mailed check</th>\n",
       "    </tr>\n",
       "  </thead>\n",
       "  <tbody>\n",
       "    <tr>\n",
       "      <td>0</td>\n",
       "      <td>0.013889</td>\n",
       "      <td>0.115423</td>\n",
       "      <td>0.003437</td>\n",
       "      <td>1</td>\n",
       "      <td>0</td>\n",
       "      <td>1</td>\n",
       "      <td>0</td>\n",
       "      <td>0</td>\n",
       "      <td>1</td>\n",
       "      <td>1</td>\n",
       "      <td>...</td>\n",
       "      <td>0</td>\n",
       "      <td>1</td>\n",
       "      <td>0</td>\n",
       "      <td>0</td>\n",
       "      <td>0</td>\n",
       "      <td>1</td>\n",
       "      <td>0</td>\n",
       "      <td>0</td>\n",
       "      <td>1</td>\n",
       "      <td>0</td>\n",
       "    </tr>\n",
       "    <tr>\n",
       "      <td>1</td>\n",
       "      <td>0.472222</td>\n",
       "      <td>0.385075</td>\n",
       "      <td>0.217564</td>\n",
       "      <td>0</td>\n",
       "      <td>1</td>\n",
       "      <td>1</td>\n",
       "      <td>0</td>\n",
       "      <td>1</td>\n",
       "      <td>0</td>\n",
       "      <td>1</td>\n",
       "      <td>...</td>\n",
       "      <td>0</td>\n",
       "      <td>0</td>\n",
       "      <td>1</td>\n",
       "      <td>0</td>\n",
       "      <td>1</td>\n",
       "      <td>0</td>\n",
       "      <td>0</td>\n",
       "      <td>0</td>\n",
       "      <td>0</td>\n",
       "      <td>1</td>\n",
       "    </tr>\n",
       "    <tr>\n",
       "      <td>2</td>\n",
       "      <td>0.027778</td>\n",
       "      <td>0.354229</td>\n",
       "      <td>0.012453</td>\n",
       "      <td>0</td>\n",
       "      <td>1</td>\n",
       "      <td>1</td>\n",
       "      <td>0</td>\n",
       "      <td>1</td>\n",
       "      <td>0</td>\n",
       "      <td>1</td>\n",
       "      <td>...</td>\n",
       "      <td>0</td>\n",
       "      <td>1</td>\n",
       "      <td>0</td>\n",
       "      <td>0</td>\n",
       "      <td>0</td>\n",
       "      <td>1</td>\n",
       "      <td>0</td>\n",
       "      <td>0</td>\n",
       "      <td>0</td>\n",
       "      <td>1</td>\n",
       "    </tr>\n",
       "    <tr>\n",
       "      <td>3</td>\n",
       "      <td>0.625000</td>\n",
       "      <td>0.239303</td>\n",
       "      <td>0.211951</td>\n",
       "      <td>0</td>\n",
       "      <td>1</td>\n",
       "      <td>1</td>\n",
       "      <td>0</td>\n",
       "      <td>1</td>\n",
       "      <td>0</td>\n",
       "      <td>1</td>\n",
       "      <td>...</td>\n",
       "      <td>0</td>\n",
       "      <td>0</td>\n",
       "      <td>1</td>\n",
       "      <td>0</td>\n",
       "      <td>1</td>\n",
       "      <td>0</td>\n",
       "      <td>1</td>\n",
       "      <td>0</td>\n",
       "      <td>0</td>\n",
       "      <td>0</td>\n",
       "    </tr>\n",
       "    <tr>\n",
       "      <td>4</td>\n",
       "      <td>0.027778</td>\n",
       "      <td>0.521891</td>\n",
       "      <td>0.017462</td>\n",
       "      <td>1</td>\n",
       "      <td>0</td>\n",
       "      <td>1</td>\n",
       "      <td>0</td>\n",
       "      <td>1</td>\n",
       "      <td>0</td>\n",
       "      <td>1</td>\n",
       "      <td>...</td>\n",
       "      <td>0</td>\n",
       "      <td>1</td>\n",
       "      <td>0</td>\n",
       "      <td>0</td>\n",
       "      <td>0</td>\n",
       "      <td>1</td>\n",
       "      <td>0</td>\n",
       "      <td>0</td>\n",
       "      <td>1</td>\n",
       "      <td>0</td>\n",
       "    </tr>\n",
       "  </tbody>\n",
       "</table>\n",
       "<p>5 rows × 46 columns</p>\n",
       "</div>"
      ],
      "text/plain": [
       "     Tenure  MonthlyCharges  TotalCharges  Gender_Female  Gender_Male  \\\n",
       "0  0.013889        0.115423      0.003437              1            0   \n",
       "1  0.472222        0.385075      0.217564              0            1   \n",
       "2  0.027778        0.354229      0.012453              0            1   \n",
       "3  0.625000        0.239303      0.211951              0            1   \n",
       "4  0.027778        0.521891      0.017462              1            0   \n",
       "\n",
       "   SeniorCitizen_No  SeniorCitizen_Yes  Partner_No  Partner_Yes  \\\n",
       "0                 1                  0           0            1   \n",
       "1                 1                  0           1            0   \n",
       "2                 1                  0           1            0   \n",
       "3                 1                  0           1            0   \n",
       "4                 1                  0           1            0   \n",
       "\n",
       "   Dependents_No  ...  StreamingMovies_Yes  Contract_Month-to-month  \\\n",
       "0              1  ...                    0                        1   \n",
       "1              1  ...                    0                        0   \n",
       "2              1  ...                    0                        1   \n",
       "3              1  ...                    0                        0   \n",
       "4              1  ...                    0                        1   \n",
       "\n",
       "   Contract_One year  Contract_Two year  PaperlessBilling_No  \\\n",
       "0                  0                  0                    0   \n",
       "1                  1                  0                    1   \n",
       "2                  0                  0                    0   \n",
       "3                  1                  0                    1   \n",
       "4                  0                  0                    0   \n",
       "\n",
       "   PaperlessBilling_Yes  PaymentMethod_Bank transfer (automatic)  \\\n",
       "0                     1                                        0   \n",
       "1                     0                                        0   \n",
       "2                     1                                        0   \n",
       "3                     0                                        1   \n",
       "4                     1                                        0   \n",
       "\n",
       "   PaymentMethod_Credit card (automatic)  PaymentMethod_Electronic check  \\\n",
       "0                                      0                               1   \n",
       "1                                      0                               0   \n",
       "2                                      0                               0   \n",
       "3                                      0                               0   \n",
       "4                                      0                               1   \n",
       "\n",
       "   PaymentMethod_Mailed check  \n",
       "0                           0  \n",
       "1                           1  \n",
       "2                           1  \n",
       "3                           0  \n",
       "4                           0  \n",
       "\n",
       "[5 rows x 46 columns]"
      ]
     },
     "execution_count": 28,
     "metadata": {},
     "output_type": "execute_result"
    }
   ],
   "source": [
    "x.head()"
   ]
  },
  {
   "cell_type": "markdown",
   "metadata": {},
   "source": [
    "#### FITTING MODEL"
   ]
  },
  {
   "cell_type": "code",
   "execution_count": 29,
   "metadata": {},
   "outputs": [],
   "source": [
    "#Split train data 80%, test data 20%\n",
    "x_train, x_test, y_train, y_test =  train_test_split(x, y, train_size = 0.8, shuffle = False)\n",
    "\n",
    "#Model\n",
    "LRG = LogisticRegression().fit(x_train, y_train)\n",
    "RFC = RandomForestClassifier().fit(x_train, y_train)\n",
    "KNN = KNeighborsClassifier().fit(x_train, y_train)"
   ]
  },
  {
   "cell_type": "markdown",
   "metadata": {},
   "source": [
    "#### HYPERPARAMETER"
   ]
  },
  {
   "cell_type": "code",
   "execution_count": 30,
   "metadata": {},
   "outputs": [],
   "source": [
    "# Hyper\n",
    "RSCV_LRG = RandomizedSearchCV(estimator = LRG, param_distributions = LRG_param, cv=5).fit(x_train, y_train)\n",
    "RSCV_RFC = RandomizedSearchCV(estimator = RFC, param_distributions = RFC_param, cv=5).fit(x_train, y_train)\n",
    "RSCV_KNN = RandomizedSearchCV(estimator = KNN, param_distributions = KNN_param, cv=5).fit(x_train, y_train)"
   ]
  },
  {
   "cell_type": "code",
   "execution_count": 31,
   "metadata": {},
   "outputs": [
    {
     "name": "stdout",
     "output_type": "stream",
     "text": [
      "best param LRG :  {'solver': 'liblinear', 'penalty': 'l2', 'max_iter': 10}\n",
      "best param RFC :  {'n_estimators': 100, 'min_samples_split': 10, 'min_samples_leaf': 2, 'max_depth': 20}\n",
      "best param KNN :  {'p': 1, 'n_neighbors': 26, 'leaf_size': 2}\n"
     ]
    }
   ],
   "source": [
    "print('best param LRG : ' ,RSCV_LRG.best_params_)\n",
    "print('best param RFC : ' ,RSCV_RFC.best_params_)\n",
    "print('best param KNN : ' ,RSCV_KNN.best_params_)"
   ]
  },
  {
   "cell_type": "code",
   "execution_count": 32,
   "metadata": {},
   "outputs": [],
   "source": [
    "# applying model with hyperparameter\n",
    "LRG_best = LogisticRegression(solver = 'lbfgs', penalty = 'none', max_iter = 10).fit(x_train, y_train)\n",
    "RFC_best = RandomForestClassifier(n_estimators = 100, min_samples_split = 2, min_samples_leaf = 4, max_depth = 40).fit(x_train, y_train)\n",
    "KNN_best = KNeighborsClassifier(p = 2, n_neighbors = 28, leaf_size = 35).fit(x_train, y_train)"
   ]
  },
  {
   "cell_type": "code",
   "execution_count": 33,
   "metadata": {},
   "outputs": [],
   "source": [
    "# train\n",
    "LRG_score_tr = LRG.score(x_train,y_train)\n",
    "RFC_score_tr = RFC.score(x_train,y_train)\n",
    "KNN_score_tr = KNN.score(x_train,y_train)\n",
    "LRG_best_score_tr = LRG_best.score(x_train,y_train)\n",
    "RFC_best_score_tr = RFC_best.score(x_train,y_train)\n",
    "KNN_best_score_tr = KNN_best.score(x_train,y_train)"
   ]
  },
  {
   "cell_type": "code",
   "execution_count": 34,
   "metadata": {},
   "outputs": [],
   "source": [
    "# test data\n",
    "LRG_score = LRG.score(x_test,y_test)\n",
    "RFC_score = RFC.score(x_test,y_test)\n",
    "KNN_score = KNN.score(x_test,y_test)\n",
    "LRG_best_score = LRG_best.score(x_test,y_test)\n",
    "RFC_best_score = RFC_best.score(x_test,y_test)\n",
    "KNN_best_score = KNN_best.score(x_test,y_test)"
   ]
  },
  {
   "cell_type": "code",
   "execution_count": 35,
   "metadata": {},
   "outputs": [],
   "source": [
    "model80_train_score = pd.DataFrame({'Model' : ['LogRegression', 'RandomForest', 'KNNeighbors'], \n",
    "                                    'Normal': [LRG_score_tr, RFC_score_tr, KNN_score_tr], \n",
    "                                    'Hyper' : [LRG_best_score_tr, RFC_best_score_tr, KNN_best_score_tr]})"
   ]
  },
  {
   "cell_type": "code",
   "execution_count": 36,
   "metadata": {},
   "outputs": [],
   "source": [
    "model80_test_score = pd.DataFrame({'Model' : ['LogRegression', 'RandomForest', 'KNNeighbors'], \n",
    "                                   'Normal': [LRG_score, RFC_score, KNN_score], \n",
    "                                   'Hyper' : [LRG_best_score, RFC_best_score, KNN_best_score]})"
   ]
  },
  {
   "cell_type": "code",
   "execution_count": 37,
   "metadata": {},
   "outputs": [
    {
     "data": {
      "text/html": [
       "<div>\n",
       "<style scoped>\n",
       "    .dataframe tbody tr th:only-of-type {\n",
       "        vertical-align: middle;\n",
       "    }\n",
       "\n",
       "    .dataframe tbody tr th {\n",
       "        vertical-align: top;\n",
       "    }\n",
       "\n",
       "    .dataframe thead th {\n",
       "        text-align: right;\n",
       "    }\n",
       "</style>\n",
       "<table border=\"1\" class=\"dataframe\">\n",
       "  <thead>\n",
       "    <tr style=\"text-align: right;\">\n",
       "      <th></th>\n",
       "      <th></th>\n",
       "      <th>Model</th>\n",
       "      <th>Normal</th>\n",
       "      <th>Hyper</th>\n",
       "    </tr>\n",
       "  </thead>\n",
       "  <tbody>\n",
       "    <tr>\n",
       "      <td rowspan=\"3\" valign=\"top\">Train Score</td>\n",
       "      <td>0</td>\n",
       "      <td>LogRegression</td>\n",
       "      <td>0.805112</td>\n",
       "      <td>0.802449</td>\n",
       "    </tr>\n",
       "    <tr>\n",
       "      <td>1</td>\n",
       "      <td>RandomForest</td>\n",
       "      <td>0.997870</td>\n",
       "      <td>0.874334</td>\n",
       "    </tr>\n",
       "    <tr>\n",
       "      <td>2</td>\n",
       "      <td>KNNeighbors</td>\n",
       "      <td>0.834221</td>\n",
       "      <td>0.804402</td>\n",
       "    </tr>\n",
       "    <tr>\n",
       "      <td rowspan=\"3\" valign=\"top\">Test Score</td>\n",
       "      <td>0</td>\n",
       "      <td>LogRegression</td>\n",
       "      <td>0.801278</td>\n",
       "      <td>0.801987</td>\n",
       "    </tr>\n",
       "    <tr>\n",
       "      <td>1</td>\n",
       "      <td>RandomForest</td>\n",
       "      <td>0.792051</td>\n",
       "      <td>0.800568</td>\n",
       "    </tr>\n",
       "    <tr>\n",
       "      <td>2</td>\n",
       "      <td>KNNeighbors</td>\n",
       "      <td>0.770759</td>\n",
       "      <td>0.790632</td>\n",
       "    </tr>\n",
       "  </tbody>\n",
       "</table>\n",
       "</div>"
      ],
      "text/plain": [
       "                       Model    Normal     Hyper\n",
       "Train Score 0  LogRegression  0.805112  0.802449\n",
       "            1   RandomForest  0.997870  0.874334\n",
       "            2    KNNeighbors  0.834221  0.804402\n",
       "Test Score  0  LogRegression  0.801278  0.801987\n",
       "            1   RandomForest  0.792051  0.800568\n",
       "            2    KNNeighbors  0.770759  0.790632"
      ]
     },
     "execution_count": 37,
     "metadata": {},
     "output_type": "execute_result"
    }
   ],
   "source": [
    "pd.concat([model80_train_score, model80_test_score], keys = ['Train Score', 'Test Score'])"
   ]
  },
  {
   "cell_type": "markdown",
   "metadata": {},
   "source": [
    "Seeing the test score result, we can see that our models indeed performed better using Hyperparameter, therefore we'll use hyperparameter model for our prediction. But before that, by comparing our Train and Test Scores we can see that there are some overfitting in our data especially on Random Forest method. But we'll leave it for now, let's continue to the next step."
   ]
  },
  {
   "cell_type": "markdown",
   "metadata": {},
   "source": [
    "Next, we will apply our model to predict the test data."
   ]
  },
  {
   "cell_type": "markdown",
   "metadata": {},
   "source": [
    "#### PREDICT"
   ]
  },
  {
   "cell_type": "code",
   "execution_count": 38,
   "metadata": {},
   "outputs": [],
   "source": [
    "#Logistic Regression\n",
    "yp_LRG = LRG_best.predict(x_test)\n",
    "\n",
    "#Random Forest\n",
    "yp_RFC = RFC_best.predict(x_test)\n",
    "\n",
    "#KNNeighbors\n",
    "yp_KNN = KNN_best.predict(x_test)"
   ]
  },
  {
   "cell_type": "markdown",
   "metadata": {},
   "source": [
    "### MODEL PERFORMANCE EVALUATION"
   ]
  },
  {
   "cell_type": "markdown",
   "metadata": {},
   "source": [
    "Below, we will begin evaluating our models starting from Logistic Regression, then Random Forest, and lastly the KNN model."
   ]
  },
  {
   "cell_type": "markdown",
   "metadata": {},
   "source": [
    "### Logistic Regression"
   ]
  },
  {
   "cell_type": "markdown",
   "metadata": {},
   "source": [
    "In theory, Logistic Regression method uses a logistic function to frame binary output model. The output of the logistic regression will be a probability (0≤x≤1), and can be used to predict the binary 0 or 1 as the output."
   ]
  },
  {
   "cell_type": "code",
   "execution_count": 39,
   "metadata": {},
   "outputs": [
    {
     "data": {
      "text/plain": [
       "array([[923, 105],\n",
       "       [174, 207]], dtype=int64)"
      ]
     },
     "execution_count": 39,
     "metadata": {},
     "output_type": "execute_result"
    }
   ],
   "source": [
    "# evaluation matrix for LogisticRegression\n",
    "cm_LRG = confusion_matrix(y_test, yp_LRG)\n",
    "cm_LRG"
   ]
  },
  {
   "cell_type": "code",
   "execution_count": 83,
   "metadata": {},
   "outputs": [],
   "source": [
    "labels = ['Not Churned', 'Churned']"
   ]
  },
  {
   "cell_type": "code",
   "execution_count": 93,
   "metadata": {},
   "outputs": [
    {
     "name": "stdout",
     "output_type": "stream",
     "text": [
      "              precision    recall  f1-score   support\n",
      "\n",
      "           0       0.84      0.90      0.87      1028\n",
      "           1       0.66      0.54      0.60       381\n",
      "\n",
      "    accuracy                           0.80      1409\n",
      "   macro avg       0.75      0.72      0.73      1409\n",
      "weighted avg       0.79      0.80      0.80      1409\n",
      "\n"
     ]
    },
    {
     "data": {
      "image/png": "[encoded data removed]",
      "text/plain": [
       "<Figure size 576x360 with 2 Axes>"
      ]
     },
     "metadata": {
      "needs_background": "light"
     },
     "output_type": "display_data"
    }
   ],
   "source": [
    "print(classification_report(y_test, yp_LRG,))\n",
    "f, ax = plt.subplots(figsize=(8,5))\n",
    "sns.heatmap(cm_LRG, annot=True, fmt=\".0f\", ax=ax)\n",
    "\n",
    "ax.xaxis.set_ticklabels(labels)\n",
    "ax.yaxis.set_ticklabels(labels)\n",
    "\n",
    "plt.title('Logistic Regression TRAIN 80%')\n",
    "plt.xlabel('PREDICTED')\n",
    "plt.ylabel('ACTUAL')\n",
    "plt.show()"
   ]
  },
  {
   "cell_type": "markdown",
   "metadata": {},
   "source": [
    "Acually by seeing the data from the confusion matrix above, we can see that our data is more likely unbalanced. Therefore maybe in the end after comparing our result we can try to re-balance the data using oversampling or undersampling method. But what is a confusion matrix ? What does it imply ? What about oversampling and undersampling ? I'll try to explain it along the way, maybe after we've done all the modellings. For now let's just focus on building the models.\n",
    "\n",
    "I also put the classification report into **report_LRG** so that in the summary section we can call it back and concatenate it with other reports."
   ]
  },
  {
   "cell_type": "code",
   "execution_count": 42,
   "metadata": {},
   "outputs": [],
   "source": [
    "report_LRG = pd.DataFrame(classification_report(y_test, yp_LRG, target_names= labels, output_dict=True)).T"
   ]
  },
  {
   "cell_type": "markdown",
   "metadata": {},
   "source": [
    "### Random Forest Classifier"
   ]
  },
  {
   "cell_type": "markdown",
   "metadata": {},
   "source": [
    "Moving on to the next model, Random forests. It's esentially are a learning method for classification, regression and other tasks that operate by constructing a multitude of Decision Trees. While Decision Tree is a tree based algorithm used to solve regression and classification problems. An inverted tree is framed which is branched off from a homogeneous probability distributed root node, to highly heterogeneous leaf nodes, for deriving the output."
   ]
  },
  {
   "cell_type": "code",
   "execution_count": 43,
   "metadata": {},
   "outputs": [
    {
     "data": {
      "text/plain": [
       "array([[940,  88],\n",
       "       [193, 188]], dtype=int64)"
      ]
     },
     "execution_count": 43,
     "metadata": {},
     "output_type": "execute_result"
    }
   ],
   "source": [
    "# confusion matrix for RandomForestClassifier\n",
    "cm_RFC = confusion_matrix(y_test, yp_RFC)\n",
    "cm_RFC"
   ]
  },
  {
   "cell_type": "code",
   "execution_count": 92,
   "metadata": {},
   "outputs": [
    {
     "name": "stdout",
     "output_type": "stream",
     "text": [
      "              precision    recall  f1-score   support\n",
      "\n",
      " Not Churned       0.83      0.91      0.87      1028\n",
      "     Churned       0.68      0.49      0.57       381\n",
      "\n",
      "    accuracy                           0.80      1409\n",
      "   macro avg       0.76      0.70      0.72      1409\n",
      "weighted avg       0.79      0.80      0.79      1409\n",
      "\n"
     ]
    },
    {
     "data": {
      "image/png": "[encoded data removed]",
      "text/plain": [
       "<Figure size 576x360 with 2 Axes>"
      ]
     },
     "metadata": {
      "needs_background": "light"
     },
     "output_type": "display_data"
    }
   ],
   "source": [
    "print(classification_report(y_test, yp_RFC, target_names = labels))\n",
    "\n",
    "f, ax = plt.subplots(figsize=(8,5))\n",
    "sns.heatmap(cm_RFC, annot=True, fmt=\".0f\", ax=ax)\n",
    "\n",
    "ax.xaxis.set_ticklabels(labels)\n",
    "ax.yaxis.set_ticklabels(labels)\n",
    "\n",
    "plt.title('Random Forest Classifier TRAIN 80%')\n",
    "plt.xlabel('PREDICTED')\n",
    "plt.ylabel('ACTUAL')\n",
    "plt.show()"
   ]
  },
  {
   "cell_type": "markdown",
   "metadata": {},
   "source": [
    "We've done with the Random Forest, next we will store the report into **report_RFC** and moving to last model in this 80% Train data category."
   ]
  },
  {
   "cell_type": "code",
   "execution_count": 45,
   "metadata": {},
   "outputs": [],
   "source": [
    "report_RFC = pd.DataFrame(classification_report(y_test, yp_RFC, target_names= labels, output_dict=True)).T"
   ]
  },
  {
   "cell_type": "markdown",
   "metadata": {},
   "source": [
    "### K-Nearest Neighbors"
   ]
  },
  {
   "cell_type": "markdown",
   "metadata": {},
   "source": [
    "K-Nearest Neighbors is one of the most easy ML technique used. The logic behind KNN is to explore the data's nearest neighbor, assume the test datapoint to be similar to them and derive the output. In case of KNN classification, a majority voting is applied over the k nearest datapoints."
   ]
  },
  {
   "cell_type": "code",
   "execution_count": 46,
   "metadata": {},
   "outputs": [
    {
     "data": {
      "text/plain": [
       "array([[903, 125],\n",
       "       [170, 211]], dtype=int64)"
      ]
     },
     "execution_count": 46,
     "metadata": {},
     "output_type": "execute_result"
    }
   ],
   "source": [
    "# confusion matrix for KNN\n",
    "cm_KNN = confusion_matrix(y_test, yp_KNN)\n",
    "cm_KNN"
   ]
  },
  {
   "cell_type": "code",
   "execution_count": 91,
   "metadata": {},
   "outputs": [
    {
     "name": "stdout",
     "output_type": "stream",
     "text": [
      "              precision    recall  f1-score   support\n",
      "\n",
      " Not Churned       0.84      0.88      0.86      1028\n",
      "     Churned       0.63      0.55      0.59       381\n",
      "\n",
      "    accuracy                           0.79      1409\n",
      "   macro avg       0.73      0.72      0.72      1409\n",
      "weighted avg       0.78      0.79      0.79      1409\n",
      "\n"
     ]
    },
    {
     "data": {
      "image/png": "[encoded data removed]",
      "text/plain": [
       "<Figure size 576x360 with 2 Axes>"
      ]
     },
     "metadata": {
      "needs_background": "light"
     },
     "output_type": "display_data"
    }
   ],
   "source": [
    "print(classification_report(y_test, yp_KNN, target_names = labels))\n",
    "\n",
    "f, ax = plt.subplots(figsize=(8,5))\n",
    "sns.heatmap(cm_KNN, annot=True, fmt=\".0f\", ax=ax)\n",
    "\n",
    "ax.xaxis.set_ticklabels(labels)\n",
    "ax.yaxis.set_ticklabels(labels)\n",
    "\n",
    "plt.title('KNearest Neighbors TRAIN 80%')\n",
    "plt.xlabel('PREDICTED')\n",
    "plt.ylabel('ACTUAL')\n",
    "plt.show()"
   ]
  },
  {
   "cell_type": "markdown",
   "metadata": {},
   "source": [
    "Allright, it seems that we've done all the modelling for our 80% Train category. Now I'll store the report in **report_KNN**. Then we move to the next category, the 90% Train data."
   ]
  },
  {
   "cell_type": "code",
   "execution_count": 48,
   "metadata": {},
   "outputs": [],
   "source": [
    "report_KNN = pd.DataFrame(classification_report(y_test, yp_KNN, target_names= labels, output_dict=True)).T"
   ]
  },
  {
   "cell_type": "markdown",
   "metadata": {},
   "source": [
    "### Splitting Data - Train 90%"
   ]
  },
  {
   "cell_type": "markdown",
   "metadata": {},
   "source": [
    "In general, the procedures on this category are pretty much the same as the 80% Train datas, the only difference is on this category we'll split the data into 90% Train and 10% Test data. Since the procedures are same, I would not explain the details as the explanations would also be repetitive and the same as above. "
   ]
  },
  {
   "cell_type": "code",
   "execution_count": 49,
   "metadata": {},
   "outputs": [],
   "source": [
    "df_90 = df_ready.copy()"
   ]
  },
  {
   "cell_type": "code",
   "execution_count": 50,
   "metadata": {
    "scrolled": true
   },
   "outputs": [],
   "source": [
    "x1 = df_90.drop(columns = ['Churn'])\n",
    "y1 = df_90['Churn'].values"
   ]
  },
  {
   "cell_type": "code",
   "execution_count": 51,
   "metadata": {},
   "outputs": [
    {
     "data": {
      "text/html": [
       "<div>\n",
       "<style scoped>\n",
       "    .dataframe tbody tr th:only-of-type {\n",
       "        vertical-align: middle;\n",
       "    }\n",
       "\n",
       "    .dataframe tbody tr th {\n",
       "        vertical-align: top;\n",
       "    }\n",
       "\n",
       "    .dataframe thead th {\n",
       "        text-align: right;\n",
       "    }\n",
       "</style>\n",
       "<table border=\"1\" class=\"dataframe\">\n",
       "  <thead>\n",
       "    <tr style=\"text-align: right;\">\n",
       "      <th></th>\n",
       "      <th>Tenure</th>\n",
       "      <th>MonthlyCharges</th>\n",
       "      <th>TotalCharges</th>\n",
       "      <th>Gender_Female</th>\n",
       "      <th>Gender_Male</th>\n",
       "      <th>SeniorCitizen_No</th>\n",
       "      <th>SeniorCitizen_Yes</th>\n",
       "      <th>Partner_No</th>\n",
       "      <th>Partner_Yes</th>\n",
       "      <th>Dependents_No</th>\n",
       "      <th>...</th>\n",
       "      <th>StreamingMovies_Yes</th>\n",
       "      <th>Contract_Month-to-month</th>\n",
       "      <th>Contract_One year</th>\n",
       "      <th>Contract_Two year</th>\n",
       "      <th>PaperlessBilling_No</th>\n",
       "      <th>PaperlessBilling_Yes</th>\n",
       "      <th>PaymentMethod_Bank transfer (automatic)</th>\n",
       "      <th>PaymentMethod_Credit card (automatic)</th>\n",
       "      <th>PaymentMethod_Electronic check</th>\n",
       "      <th>PaymentMethod_Mailed check</th>\n",
       "    </tr>\n",
       "  </thead>\n",
       "  <tbody>\n",
       "    <tr>\n",
       "      <td>0</td>\n",
       "      <td>0.013889</td>\n",
       "      <td>0.115423</td>\n",
       "      <td>0.003437</td>\n",
       "      <td>1</td>\n",
       "      <td>0</td>\n",
       "      <td>1</td>\n",
       "      <td>0</td>\n",
       "      <td>0</td>\n",
       "      <td>1</td>\n",
       "      <td>1</td>\n",
       "      <td>...</td>\n",
       "      <td>0</td>\n",
       "      <td>1</td>\n",
       "      <td>0</td>\n",
       "      <td>0</td>\n",
       "      <td>0</td>\n",
       "      <td>1</td>\n",
       "      <td>0</td>\n",
       "      <td>0</td>\n",
       "      <td>1</td>\n",
       "      <td>0</td>\n",
       "    </tr>\n",
       "    <tr>\n",
       "      <td>1</td>\n",
       "      <td>0.472222</td>\n",
       "      <td>0.385075</td>\n",
       "      <td>0.217564</td>\n",
       "      <td>0</td>\n",
       "      <td>1</td>\n",
       "      <td>1</td>\n",
       "      <td>0</td>\n",
       "      <td>1</td>\n",
       "      <td>0</td>\n",
       "      <td>1</td>\n",
       "      <td>...</td>\n",
       "      <td>0</td>\n",
       "      <td>0</td>\n",
       "      <td>1</td>\n",
       "      <td>0</td>\n",
       "      <td>1</td>\n",
       "      <td>0</td>\n",
       "      <td>0</td>\n",
       "      <td>0</td>\n",
       "      <td>0</td>\n",
       "      <td>1</td>\n",
       "    </tr>\n",
       "    <tr>\n",
       "      <td>2</td>\n",
       "      <td>0.027778</td>\n",
       "      <td>0.354229</td>\n",
       "      <td>0.012453</td>\n",
       "      <td>0</td>\n",
       "      <td>1</td>\n",
       "      <td>1</td>\n",
       "      <td>0</td>\n",
       "      <td>1</td>\n",
       "      <td>0</td>\n",
       "      <td>1</td>\n",
       "      <td>...</td>\n",
       "      <td>0</td>\n",
       "      <td>1</td>\n",
       "      <td>0</td>\n",
       "      <td>0</td>\n",
       "      <td>0</td>\n",
       "      <td>1</td>\n",
       "      <td>0</td>\n",
       "      <td>0</td>\n",
       "      <td>0</td>\n",
       "      <td>1</td>\n",
       "    </tr>\n",
       "    <tr>\n",
       "      <td>3</td>\n",
       "      <td>0.625000</td>\n",
       "      <td>0.239303</td>\n",
       "      <td>0.211951</td>\n",
       "      <td>0</td>\n",
       "      <td>1</td>\n",
       "      <td>1</td>\n",
       "      <td>0</td>\n",
       "      <td>1</td>\n",
       "      <td>0</td>\n",
       "      <td>1</td>\n",
       "      <td>...</td>\n",
       "      <td>0</td>\n",
       "      <td>0</td>\n",
       "      <td>1</td>\n",
       "      <td>0</td>\n",
       "      <td>1</td>\n",
       "      <td>0</td>\n",
       "      <td>1</td>\n",
       "      <td>0</td>\n",
       "      <td>0</td>\n",
       "      <td>0</td>\n",
       "    </tr>\n",
       "    <tr>\n",
       "      <td>4</td>\n",
       "      <td>0.027778</td>\n",
       "      <td>0.521891</td>\n",
       "      <td>0.017462</td>\n",
       "      <td>1</td>\n",
       "      <td>0</td>\n",
       "      <td>1</td>\n",
       "      <td>0</td>\n",
       "      <td>1</td>\n",
       "      <td>0</td>\n",
       "      <td>1</td>\n",
       "      <td>...</td>\n",
       "      <td>0</td>\n",
       "      <td>1</td>\n",
       "      <td>0</td>\n",
       "      <td>0</td>\n",
       "      <td>0</td>\n",
       "      <td>1</td>\n",
       "      <td>0</td>\n",
       "      <td>0</td>\n",
       "      <td>1</td>\n",
       "      <td>0</td>\n",
       "    </tr>\n",
       "  </tbody>\n",
       "</table>\n",
       "<p>5 rows × 46 columns</p>\n",
       "</div>"
      ],
      "text/plain": [
       "     Tenure  MonthlyCharges  TotalCharges  Gender_Female  Gender_Male  \\\n",
       "0  0.013889        0.115423      0.003437              1            0   \n",
       "1  0.472222        0.385075      0.217564              0            1   \n",
       "2  0.027778        0.354229      0.012453              0            1   \n",
       "3  0.625000        0.239303      0.211951              0            1   \n",
       "4  0.027778        0.521891      0.017462              1            0   \n",
       "\n",
       "   SeniorCitizen_No  SeniorCitizen_Yes  Partner_No  Partner_Yes  \\\n",
       "0                 1                  0           0            1   \n",
       "1                 1                  0           1            0   \n",
       "2                 1                  0           1            0   \n",
       "3                 1                  0           1            0   \n",
       "4                 1                  0           1            0   \n",
       "\n",
       "   Dependents_No  ...  StreamingMovies_Yes  Contract_Month-to-month  \\\n",
       "0              1  ...                    0                        1   \n",
       "1              1  ...                    0                        0   \n",
       "2              1  ...                    0                        1   \n",
       "3              1  ...                    0                        0   \n",
       "4              1  ...                    0                        1   \n",
       "\n",
       "   Contract_One year  Contract_Two year  PaperlessBilling_No  \\\n",
       "0                  0                  0                    0   \n",
       "1                  1                  0                    1   \n",
       "2                  0                  0                    0   \n",
       "3                  1                  0                    1   \n",
       "4                  0                  0                    0   \n",
       "\n",
       "   PaperlessBilling_Yes  PaymentMethod_Bank transfer (automatic)  \\\n",
       "0                     1                                        0   \n",
       "1                     0                                        0   \n",
       "2                     1                                        0   \n",
       "3                     0                                        1   \n",
       "4                     1                                        0   \n",
       "\n",
       "   PaymentMethod_Credit card (automatic)  PaymentMethod_Electronic check  \\\n",
       "0                                      0                               1   \n",
       "1                                      0                               0   \n",
       "2                                      0                               0   \n",
       "3                                      0                               0   \n",
       "4                                      0                               1   \n",
       "\n",
       "   PaymentMethod_Mailed check  \n",
       "0                           0  \n",
       "1                           1  \n",
       "2                           1  \n",
       "3                           0  \n",
       "4                           0  \n",
       "\n",
       "[5 rows x 46 columns]"
      ]
     },
     "execution_count": 51,
     "metadata": {},
     "output_type": "execute_result"
    }
   ],
   "source": [
    "x1.head()"
   ]
  },
  {
   "cell_type": "markdown",
   "metadata": {},
   "source": [
    "#### FITTING MODEL"
   ]
  },
  {
   "cell_type": "code",
   "execution_count": 52,
   "metadata": {},
   "outputs": [],
   "source": [
    "#Split Train 90%\n",
    "x1_train, x1_test, y1_train, y1_test =  train_test_split(x1, y1, train_size = 0.9, shuffle = False)\n",
    "\n",
    "#Model\n",
    "LRG1 = LogisticRegression().fit(x1_train, y1_train)\n",
    "RFC1 = RandomForestClassifier().fit(x1_train, y1_train)\n",
    "KNN1 = KNeighborsClassifier().fit(x1_train, y1_train)"
   ]
  },
  {
   "cell_type": "markdown",
   "metadata": {},
   "source": [
    "#### HYPERPARAMETER TUNING"
   ]
  },
  {
   "cell_type": "code",
   "execution_count": 53,
   "metadata": {},
   "outputs": [],
   "source": [
    "# Hyper\n",
    "RSCV_LRG1 = RandomizedSearchCV(estimator = LRG1, param_distributions = LRG_param, cv=5).fit(x1_train, y1_train)\n",
    "RSCV_RFC1 = RandomizedSearchCV(estimator = RFC1, param_distributions = RFC_param, cv=5).fit(x1_train, y1_train)\n",
    "RSCV_KNN1 = RandomizedSearchCV(estimator = KNN1, param_distributions = KNN_param, cv=5).fit(x1_train, y1_train)"
   ]
  },
  {
   "cell_type": "code",
   "execution_count": 54,
   "metadata": {},
   "outputs": [
    {
     "name": "stdout",
     "output_type": "stream",
     "text": [
      "best param LRG1 :  {'solver': 'saga', 'penalty': 'l1', 'max_iter': 1000}\n",
      "best param RFC1 :  {'n_estimators': 100, 'min_samples_split': 10, 'min_samples_leaf': 2, 'max_depth': 20}\n",
      "best param KNN1 :  {'p': 1, 'n_neighbors': 26, 'leaf_size': 24}\n"
     ]
    }
   ],
   "source": [
    "print('best param LRG1 : ' ,RSCV_LRG1.best_params_)\n",
    "print('best param RFC1 : ' ,RSCV_RFC1.best_params_)\n",
    "print('best param KNN1 : ' ,RSCV_KNN1.best_params_)"
   ]
  },
  {
   "cell_type": "code",
   "execution_count": 55,
   "metadata": {},
   "outputs": [],
   "source": [
    "LRG1_best = LogisticRegression(solver = 'newton-cg', penalty = 'none', max_iter = 10).fit(x1_train, y1_train)\n",
    "RFC1_best = RandomForestClassifier(n_estimators = 100, min_samples_split = 2, min_samples_leaf = 2, max_depth = 40).fit(x1_train, y1_train)\n",
    "KNN1_best = KNeighborsClassifier(p = 1, n_neighbors = 25, leaf_size = 18).fit(x1_train, y1_train)"
   ]
  },
  {
   "cell_type": "code",
   "execution_count": 56,
   "metadata": {},
   "outputs": [],
   "source": [
    "# train\n",
    "LRG1_score_tr = LRG1.score(x1_train,y1_train)\n",
    "RFC1_score_tr = RFC1.score(x1_train,y1_train)\n",
    "KNN1_score_tr = KNN1.score(x1_train,y1_train)\n",
    "LRG1_best_score_tr = LRG1_best.score(x1_train,y1_train)\n",
    "RFC1_best_score_tr = RFC1_best.score(x1_train,y1_train)\n",
    "KNN1_best_score_tr = KNN1_best.score(x1_train,y1_train)"
   ]
  },
  {
   "cell_type": "code",
   "execution_count": 57,
   "metadata": {},
   "outputs": [],
   "source": [
    "# test\n",
    "LRG1_score = LRG1.score(x1_test,y1_test)\n",
    "RFC1_score = RFC1.score(x1_test,y1_test)\n",
    "KNN1_score = KNN1.score(x1_test,y1_test)\n",
    "LRG1_best_score = LRG1_best.score(x1_test,y1_test)\n",
    "RFC1_best_score = RFC1_best.score(x1_test,y1_test)\n",
    "KNN1_best_score = KNN1_best.score(x1_test,y1_test)"
   ]
  },
  {
   "cell_type": "code",
   "execution_count": 58,
   "metadata": {},
   "outputs": [],
   "source": [
    "model90_train_score = pd.DataFrame({'Model' : ['LogRegression', 'RandomForest', 'KNNeighbors'], \n",
    "                                   'Normal': [LRG1_score_tr, RFC1_score_tr, KNN1_score_tr],\n",
    "                                   'Hyper' : [LRG1_best_score_tr, RFC1_best_score_tr, KNN1_best_score_tr]})"
   ]
  },
  {
   "cell_type": "code",
   "execution_count": 59,
   "metadata": {},
   "outputs": [],
   "source": [
    "model90_test_score = pd.DataFrame({'Model' : ['LogRegression', 'RandomForest', 'KNNeighbors'], \n",
    "                                   'Normal': [LRG1_score, RFC1_score, KNN1_score],\n",
    "                                   'Hyper' : [LRG1_best_score, RFC1_best_score, KNN1_best_score]})"
   ]
  },
  {
   "cell_type": "code",
   "execution_count": 60,
   "metadata": {},
   "outputs": [
    {
     "data": {
      "text/html": [
       "<div>\n",
       "<style scoped>\n",
       "    .dataframe tbody tr th:only-of-type {\n",
       "        vertical-align: middle;\n",
       "    }\n",
       "\n",
       "    .dataframe tbody tr th {\n",
       "        vertical-align: top;\n",
       "    }\n",
       "\n",
       "    .dataframe thead th {\n",
       "        text-align: right;\n",
       "    }\n",
       "</style>\n",
       "<table border=\"1\" class=\"dataframe\">\n",
       "  <thead>\n",
       "    <tr style=\"text-align: right;\">\n",
       "      <th></th>\n",
       "      <th></th>\n",
       "      <th>Model</th>\n",
       "      <th>Normal</th>\n",
       "      <th>Hyper</th>\n",
       "    </tr>\n",
       "  </thead>\n",
       "  <tbody>\n",
       "    <tr>\n",
       "      <td rowspan=\"3\" valign=\"top\">Train Score</td>\n",
       "      <td>0</td>\n",
       "      <td>LogRegression</td>\n",
       "      <td>0.804828</td>\n",
       "      <td>0.806090</td>\n",
       "    </tr>\n",
       "    <tr>\n",
       "      <td>1</td>\n",
       "      <td>RandomForest</td>\n",
       "      <td>0.997476</td>\n",
       "      <td>0.925844</td>\n",
       "    </tr>\n",
       "    <tr>\n",
       "      <td>2</td>\n",
       "      <td>KNNeighbors</td>\n",
       "      <td>0.832755</td>\n",
       "      <td>0.803724</td>\n",
       "    </tr>\n",
       "    <tr>\n",
       "      <td rowspan=\"3\" valign=\"top\">Test Score</td>\n",
       "      <td>0</td>\n",
       "      <td>LogRegression</td>\n",
       "      <td>0.797163</td>\n",
       "      <td>0.798582</td>\n",
       "    </tr>\n",
       "    <tr>\n",
       "      <td>1</td>\n",
       "      <td>RandomForest</td>\n",
       "      <td>0.792908</td>\n",
       "      <td>0.802837</td>\n",
       "    </tr>\n",
       "    <tr>\n",
       "      <td>2</td>\n",
       "      <td>KNNeighbors</td>\n",
       "      <td>0.777305</td>\n",
       "      <td>0.797163</td>\n",
       "    </tr>\n",
       "  </tbody>\n",
       "</table>\n",
       "</div>"
      ],
      "text/plain": [
       "                       Model    Normal     Hyper\n",
       "Train Score 0  LogRegression  0.804828  0.806090\n",
       "            1   RandomForest  0.997476  0.925844\n",
       "            2    KNNeighbors  0.832755  0.803724\n",
       "Test Score  0  LogRegression  0.797163  0.798582\n",
       "            1   RandomForest  0.792908  0.802837\n",
       "            2    KNNeighbors  0.777305  0.797163"
      ]
     },
     "execution_count": 60,
     "metadata": {},
     "output_type": "execute_result"
    }
   ],
   "source": [
    "pd.concat([model90_train_score, model90_test_score], keys = ['Train Score', 'Test Score'])"
   ]
  },
  {
   "cell_type": "markdown",
   "metadata": {},
   "source": [
    "Note that in this category, we can also see that the model are overfitting."
   ]
  },
  {
   "cell_type": "markdown",
   "metadata": {},
   "source": [
    "#### PREDICT"
   ]
  },
  {
   "cell_type": "code",
   "execution_count": 61,
   "metadata": {},
   "outputs": [],
   "source": [
    "#Logistic Regression\n",
    "yp_LRG1 = LRG1_best.predict(x1_test)\n",
    "\n",
    "#Random Forest\n",
    "yp_RFC1 = RFC1_best.predict(x1_test)\n",
    "\n",
    "#KNNeighbors\n",
    "yp_KNN1 = KNN1_best.predict(x1_test)"
   ]
  },
  {
   "cell_type": "markdown",
   "metadata": {},
   "source": [
    "### MODEL PERFORMANCE EVALUATION"
   ]
  },
  {
   "cell_type": "markdown",
   "metadata": {},
   "source": [
    "### Logistic Regression "
   ]
  },
  {
   "cell_type": "code",
   "execution_count": 62,
   "metadata": {},
   "outputs": [
    {
     "data": {
      "text/plain": [
       "array([[461,  49],\n",
       "       [ 93, 102]], dtype=int64)"
      ]
     },
     "execution_count": 62,
     "metadata": {},
     "output_type": "execute_result"
    }
   ],
   "source": [
    "# confusion matrix for LogisticRegression\n",
    "cm_LRG1 = confusion_matrix(y1_test, yp_LRG1)\n",
    "cm_LRG1"
   ]
  },
  {
   "cell_type": "code",
   "execution_count": 90,
   "metadata": {},
   "outputs": [
    {
     "name": "stdout",
     "output_type": "stream",
     "text": [
      "              precision    recall  f1-score   support\n",
      "\n",
      " Not Churned       0.83      0.90      0.87       510\n",
      "     Churned       0.68      0.52      0.59       195\n",
      "\n",
      "    accuracy                           0.80       705\n",
      "   macro avg       0.75      0.71      0.73       705\n",
      "weighted avg       0.79      0.80      0.79       705\n",
      "\n"
     ]
    },
    {
     "data": {
      "image/png": "[encoded data removed]",
      "text/plain": [
       "<Figure size 576x360 with 2 Axes>"
      ]
     },
     "metadata": {
      "needs_background": "light"
     },
     "output_type": "display_data"
    }
   ],
   "source": [
    "print(classification_report(y1_test, yp_LRG1, target_names = labels))\n",
    "\n",
    "f, ax = plt.subplots(figsize=(8,5))\n",
    "sns.heatmap(cm_LRG1, annot=True, fmt=\".0f\", ax=ax)\n",
    "\n",
    "ax.xaxis.set_ticklabels(labels)\n",
    "ax.yaxis.set_ticklabels(labels)\n",
    "\n",
    "plt.title('Logistic Regression TRAIN 90%')\n",
    "plt.xlabel('PREDICTED')\n",
    "plt.ylabel('ACTUAL')\n",
    "plt.show()"
   ]
  },
  {
   "cell_type": "code",
   "execution_count": 64,
   "metadata": {},
   "outputs": [],
   "source": [
    "report_LRG1 = pd.DataFrame(classification_report(y1_test, yp_LRG1, target_names= labels, output_dict=True)).T"
   ]
  },
  {
   "cell_type": "markdown",
   "metadata": {},
   "source": [
    "### Random Forest Classifier"
   ]
  },
  {
   "cell_type": "code",
   "execution_count": 65,
   "metadata": {},
   "outputs": [
    {
     "data": {
      "text/plain": [
       "array([[467,  43],\n",
       "       [ 96,  99]], dtype=int64)"
      ]
     },
     "execution_count": 65,
     "metadata": {},
     "output_type": "execute_result"
    }
   ],
   "source": [
    "# confusion matrix for RandomForestClassifier\n",
    "cm_RFC1 = confusion_matrix(y1_test, yp_RFC1)\n",
    "cm_RFC1"
   ]
  },
  {
   "cell_type": "code",
   "execution_count": 89,
   "metadata": {},
   "outputs": [
    {
     "name": "stdout",
     "output_type": "stream",
     "text": [
      "              precision    recall  f1-score   support\n",
      "\n",
      " Not Churned       0.83      0.92      0.87       510\n",
      "     Churned       0.70      0.51      0.59       195\n",
      "\n",
      "    accuracy                           0.80       705\n",
      "   macro avg       0.76      0.71      0.73       705\n",
      "weighted avg       0.79      0.80      0.79       705\n",
      "\n"
     ]
    },
    {
     "data": {
      "image/png": "[encoded data removed]",
      "text/plain": [
       "<Figure size 576x360 with 2 Axes>"
      ]
     },
     "metadata": {
      "needs_background": "light"
     },
     "output_type": "display_data"
    }
   ],
   "source": [
    "print(classification_report(y1_test, yp_RFC1, target_names = labels))\n",
    "\n",
    "f, ax = plt.subplots(figsize=(8,5))\n",
    "sns.heatmap(cm_RFC1, annot=True, fmt=\".0f\", ax=ax)\n",
    "\n",
    "ax.xaxis.set_ticklabels(labels)\n",
    "ax.yaxis.set_ticklabels(labels)\n",
    "\n",
    "plt.title('Random Forest Classifier TRAIN 90%')\n",
    "plt.xlabel('PREDICTED')\n",
    "plt.ylabel('ACTUAL')\n",
    "plt.show()"
   ]
  },
  {
   "cell_type": "code",
   "execution_count": 67,
   "metadata": {},
   "outputs": [],
   "source": [
    "report_RFC1 = pd.DataFrame(classification_report(y1_test, yp_RFC1, target_names= labels, output_dict=True)).T"
   ]
  },
  {
   "cell_type": "markdown",
   "metadata": {},
   "source": [
    "### K-Nearest Neighbors"
   ]
  },
  {
   "cell_type": "code",
   "execution_count": 68,
   "metadata": {},
   "outputs": [
    {
     "data": {
      "text/plain": [
       "array([[446,  64],\n",
       "       [ 79, 116]], dtype=int64)"
      ]
     },
     "execution_count": 68,
     "metadata": {},
     "output_type": "execute_result"
    }
   ],
   "source": [
    "# confusion matrix for KNN\n",
    "cm_KNN1 = confusion_matrix(y1_test, yp_KNN1)\n",
    "cm_KNN1"
   ]
  },
  {
   "cell_type": "code",
   "execution_count": 88,
   "metadata": {},
   "outputs": [
    {
     "name": "stdout",
     "output_type": "stream",
     "text": [
      "              precision    recall  f1-score   support\n",
      "\n",
      " Not Churned       0.85      0.87      0.86       510\n",
      "     Churned       0.64      0.59      0.62       195\n",
      "\n",
      "    accuracy                           0.80       705\n",
      "   macro avg       0.75      0.73      0.74       705\n",
      "weighted avg       0.79      0.80      0.79       705\n",
      "\n"
     ]
    },
    {
     "data": {
      "image/png": "[encoded data removed]",
      "text/plain": [
       "<Figure size 576x360 with 2 Axes>"
      ]
     },
     "metadata": {
      "needs_background": "light"
     },
     "output_type": "display_data"
    }
   ],
   "source": [
    "print(classification_report(y1_test, yp_KNN1, target_names = labels))\n",
    "\n",
    "f, ax = plt.subplots(figsize=(8,5))\n",
    "sns.heatmap(cm_KNN1, annot=True, fmt=\".0f\", ax=ax)\n",
    "\n",
    "ax.xaxis.set_ticklabels(labels)\n",
    "ax.yaxis.set_ticklabels(labels)\n",
    "\n",
    "plt.title('KNearest Neighbors TRAIN 90%')\n",
    "plt.xlabel('PREDICTED')\n",
    "plt.ylabel('ACTUAL')\n",
    "plt.show()"
   ]
  },
  {
   "cell_type": "code",
   "execution_count": 70,
   "metadata": {},
   "outputs": [],
   "source": [
    "report_KNN1 = pd.DataFrame(classification_report(y1_test, yp_KNN1, target_names= labels, output_dict=True)).T"
   ]
  },
  {
   "cell_type": "markdown",
   "metadata": {},
   "source": [
    "### SUMMARY"
   ]
  },
  {
   "cell_type": "markdown",
   "metadata": {},
   "source": [
    "Now, we've summarize our findings. But before that, we must answer the question I mentioned before. \n",
    "\n",
    "What is a Confusion Matrix ? What does it implies ?\n",
    "\n",
    "A confusion matrix is simply a table that is often used to describe the performance of a classification model on a set of test data. \n",
    "\n",
    "Let's now define the most basic terms in this matrix :\n",
    "\n",
    "- True Positives (TP): Cases in which are predicted as *positives* and in reality are also *positives*.\n",
    "\n",
    "\n",
    "- True Negatives (TN): Cases in which are predicted as *negatives* and in reality are also *negatives*.\n",
    "\n",
    "\n",
    "- False Positives (FP): Cases in which are predicted as *positives*, but in reality are *negatives*.\n",
    "\n",
    "\n",
    "- False Negatives (FN): Cases in which are predicted as *negatives*, but in reality are *positives*."
   ]
  },
  {
   "cell_type": "markdown",
   "metadata": {},
   "source": [
    "This is a list of rates that are often computed from a confusion matrix for a binary classifier:\n",
    "\n",
    "- Accuracy : Overall, how often is the classifier correct?\n",
    "\n",
    "\n",
    "- Recall : When it's actually true, how often does it predict as true ?\n",
    "\n",
    "\n",
    "- Precision : When it predicts true, how often is it correct ?"
   ]
  },
  {
   "cell_type": "markdown",
   "metadata": {},
   "source": [
    "### Logistic Regression Comparison"
   ]
  },
  {
   "cell_type": "code",
   "execution_count": 85,
   "metadata": {},
   "outputs": [
    {
     "data": {
      "image/png": "[encoded data removed]",
      "text/plain": [
       "<Figure size 1152x432 with 4 Axes>"
      ]
     },
     "metadata": {
      "needs_background": "light"
     },
     "output_type": "display_data"
    }
   ],
   "source": [
    "fig, (ax1,ax2) = plt.subplots(1,2, figsize=(16,6))\n",
    "sns.heatmap(cm_LRG, annot=True, fmt=\".0f\", ax=ax1)\n",
    "sns.heatmap(cm_LRG1, annot=True, fmt=\".0f\", ax=ax2)\n",
    "\n",
    "ax1.xaxis.set_ticklabels(labels), ax1.yaxis.set_ticklabels(labels)\n",
    "ax2.xaxis.set_ticklabels(labels), ax2.yaxis.set_ticklabels(labels)\n",
    "\n",
    "ax1.set_title('LRGTRAIN 80%'), ax2.set_title('LRG TRAIN 90%')\n",
    "ax1.set_xlabel('PREDICTED'), ax2.set_xlabel('PREDICTED')\n",
    "ax1.set_ylabel('ACTUAL'), ax2.set_ylabel('ACTUAL')\n",
    "\n",
    "plt.show()"
   ]
  },
  {
   "cell_type": "code",
   "execution_count": 72,
   "metadata": {},
   "outputs": [
    {
     "data": {
      "text/html": [
       "<div>\n",
       "<style scoped>\n",
       "    .dataframe tbody tr th:only-of-type {\n",
       "        vertical-align: middle;\n",
       "    }\n",
       "\n",
       "    .dataframe tbody tr th {\n",
       "        vertical-align: top;\n",
       "    }\n",
       "\n",
       "    .dataframe thead th {\n",
       "        text-align: right;\n",
       "    }\n",
       "</style>\n",
       "<table border=\"1\" class=\"dataframe\">\n",
       "  <thead>\n",
       "    <tr style=\"text-align: right;\">\n",
       "      <th></th>\n",
       "      <th></th>\n",
       "      <th>precision</th>\n",
       "      <th>recall</th>\n",
       "      <th>f1-score</th>\n",
       "      <th>support</th>\n",
       "    </tr>\n",
       "  </thead>\n",
       "  <tbody>\n",
       "    <tr>\n",
       "      <td rowspan=\"5\" valign=\"top\">LRG TRAIN 80%</td>\n",
       "      <td>Not Churned</td>\n",
       "      <td>0.841386</td>\n",
       "      <td>0.897860</td>\n",
       "      <td>0.868706</td>\n",
       "      <td>1028.000000</td>\n",
       "    </tr>\n",
       "    <tr>\n",
       "      <td>Churned</td>\n",
       "      <td>0.663462</td>\n",
       "      <td>0.543307</td>\n",
       "      <td>0.597403</td>\n",
       "      <td>381.000000</td>\n",
       "    </tr>\n",
       "    <tr>\n",
       "      <td>accuracy</td>\n",
       "      <td>0.801987</td>\n",
       "      <td>0.801987</td>\n",
       "      <td>0.801987</td>\n",
       "      <td>0.801987</td>\n",
       "    </tr>\n",
       "    <tr>\n",
       "      <td>macro avg</td>\n",
       "      <td>0.752424</td>\n",
       "      <td>0.720584</td>\n",
       "      <td>0.733054</td>\n",
       "      <td>1409.000000</td>\n",
       "    </tr>\n",
       "    <tr>\n",
       "      <td>weighted avg</td>\n",
       "      <td>0.793274</td>\n",
       "      <td>0.801987</td>\n",
       "      <td>0.795344</td>\n",
       "      <td>1409.000000</td>\n",
       "    </tr>\n",
       "    <tr>\n",
       "      <td rowspan=\"5\" valign=\"top\">LRG TRAIN 90%</td>\n",
       "      <td>Not Churned</td>\n",
       "      <td>0.832130</td>\n",
       "      <td>0.903922</td>\n",
       "      <td>0.866541</td>\n",
       "      <td>510.000000</td>\n",
       "    </tr>\n",
       "    <tr>\n",
       "      <td>Churned</td>\n",
       "      <td>0.675497</td>\n",
       "      <td>0.523077</td>\n",
       "      <td>0.589595</td>\n",
       "      <td>195.000000</td>\n",
       "    </tr>\n",
       "    <tr>\n",
       "      <td>accuracy</td>\n",
       "      <td>0.798582</td>\n",
       "      <td>0.798582</td>\n",
       "      <td>0.798582</td>\n",
       "      <td>0.798582</td>\n",
       "    </tr>\n",
       "    <tr>\n",
       "      <td>macro avg</td>\n",
       "      <td>0.753813</td>\n",
       "      <td>0.713499</td>\n",
       "      <td>0.728068</td>\n",
       "      <td>705.000000</td>\n",
       "    </tr>\n",
       "    <tr>\n",
       "      <td>weighted avg</td>\n",
       "      <td>0.788806</td>\n",
       "      <td>0.798582</td>\n",
       "      <td>0.789939</td>\n",
       "      <td>705.000000</td>\n",
       "    </tr>\n",
       "  </tbody>\n",
       "</table>\n",
       "</div>"
      ],
      "text/plain": [
       "                            precision    recall  f1-score      support\n",
       "LRG TRAIN 80% Not Churned    0.841386  0.897860  0.868706  1028.000000\n",
       "              Churned        0.663462  0.543307  0.597403   381.000000\n",
       "              accuracy       0.801987  0.801987  0.801987     0.801987\n",
       "              macro avg      0.752424  0.720584  0.733054  1409.000000\n",
       "              weighted avg   0.793274  0.801987  0.795344  1409.000000\n",
       "LRG TRAIN 90% Not Churned    0.832130  0.903922  0.866541   510.000000\n",
       "              Churned        0.675497  0.523077  0.589595   195.000000\n",
       "              accuracy       0.798582  0.798582  0.798582     0.798582\n",
       "              macro avg      0.753813  0.713499  0.728068   705.000000\n",
       "              weighted avg   0.788806  0.798582  0.789939   705.000000"
      ]
     },
     "execution_count": 72,
     "metadata": {},
     "output_type": "execute_result"
    }
   ],
   "source": [
    "pd.concat([report_LRG, report_LRG1], keys = ['LRG TRAIN 80%', 'LRG TRAIN 90%'])"
   ]
  },
  {
   "cell_type": "markdown",
   "metadata": {},
   "source": [
    "### Random Forest Comparison"
   ]
  },
  {
   "cell_type": "code",
   "execution_count": 86,
   "metadata": {},
   "outputs": [
    {
     "data": {
      "image/png": "[encoded data removed]",
      "text/plain": [
       "<Figure size 1152x432 with 4 Axes>"
      ]
     },
     "metadata": {
      "needs_background": "light"
     },
     "output_type": "display_data"
    }
   ],
   "source": [
    "fig, (ax1,ax2) = plt.subplots(1,2, figsize=(16,6))\n",
    "sns.heatmap(cm_RFC, annot=True, fmt=\".0f\", ax=ax1)\n",
    "sns.heatmap(cm_RFC1, annot=True, fmt=\".0f\", ax=ax2)\n",
    "\n",
    "ax1.xaxis.set_ticklabels(labels), ax1.yaxis.set_ticklabels(labels)\n",
    "ax2.xaxis.set_ticklabels(labels), ax2.yaxis.set_ticklabels(labels)\n",
    "\n",
    "ax1.set_title('RFC TRAIN 80%'), ax2.set_title('RFC TRAIN 90%')\n",
    "ax1.set_xlabel('PREDICTED'), ax2.set_xlabel('PREDICTED')\n",
    "ax1.set_ylabel('ACTUAL'), ax2.set_ylabel('ACTUAL')\n",
    "\n",
    "plt.show()"
   ]
  },
  {
   "cell_type": "code",
   "execution_count": 74,
   "metadata": {},
   "outputs": [
    {
     "data": {
      "text/html": [
       "<div>\n",
       "<style scoped>\n",
       "    .dataframe tbody tr th:only-of-type {\n",
       "        vertical-align: middle;\n",
       "    }\n",
       "\n",
       "    .dataframe tbody tr th {\n",
       "        vertical-align: top;\n",
       "    }\n",
       "\n",
       "    .dataframe thead th {\n",
       "        text-align: right;\n",
       "    }\n",
       "</style>\n",
       "<table border=\"1\" class=\"dataframe\">\n",
       "  <thead>\n",
       "    <tr style=\"text-align: right;\">\n",
       "      <th></th>\n",
       "      <th></th>\n",
       "      <th>precision</th>\n",
       "      <th>recall</th>\n",
       "      <th>f1-score</th>\n",
       "      <th>support</th>\n",
       "    </tr>\n",
       "  </thead>\n",
       "  <tbody>\n",
       "    <tr>\n",
       "      <td rowspan=\"5\" valign=\"top\">RFC TRAIN 80%</td>\n",
       "      <td>Not Churned</td>\n",
       "      <td>0.829656</td>\n",
       "      <td>0.914397</td>\n",
       "      <td>0.869968</td>\n",
       "      <td>1028.000000</td>\n",
       "    </tr>\n",
       "    <tr>\n",
       "      <td>Churned</td>\n",
       "      <td>0.681159</td>\n",
       "      <td>0.493438</td>\n",
       "      <td>0.572298</td>\n",
       "      <td>381.000000</td>\n",
       "    </tr>\n",
       "    <tr>\n",
       "      <td>accuracy</td>\n",
       "      <td>0.800568</td>\n",
       "      <td>0.800568</td>\n",
       "      <td>0.800568</td>\n",
       "      <td>0.800568</td>\n",
       "    </tr>\n",
       "    <tr>\n",
       "      <td>macro avg</td>\n",
       "      <td>0.755408</td>\n",
       "      <td>0.703918</td>\n",
       "      <td>0.721133</td>\n",
       "      <td>1409.000000</td>\n",
       "    </tr>\n",
       "    <tr>\n",
       "      <td>weighted avg</td>\n",
       "      <td>0.789502</td>\n",
       "      <td>0.800568</td>\n",
       "      <td>0.789476</td>\n",
       "      <td>1409.000000</td>\n",
       "    </tr>\n",
       "    <tr>\n",
       "      <td rowspan=\"5\" valign=\"top\">RFC TRAIN 90%</td>\n",
       "      <td>Not Churned</td>\n",
       "      <td>0.829485</td>\n",
       "      <td>0.915686</td>\n",
       "      <td>0.870457</td>\n",
       "      <td>510.000000</td>\n",
       "    </tr>\n",
       "    <tr>\n",
       "      <td>Churned</td>\n",
       "      <td>0.697183</td>\n",
       "      <td>0.507692</td>\n",
       "      <td>0.587537</td>\n",
       "      <td>195.000000</td>\n",
       "    </tr>\n",
       "    <tr>\n",
       "      <td>accuracy</td>\n",
       "      <td>0.802837</td>\n",
       "      <td>0.802837</td>\n",
       "      <td>0.802837</td>\n",
       "      <td>0.802837</td>\n",
       "    </tr>\n",
       "    <tr>\n",
       "      <td>macro avg</td>\n",
       "      <td>0.763334</td>\n",
       "      <td>0.711689</td>\n",
       "      <td>0.728997</td>\n",
       "      <td>705.000000</td>\n",
       "    </tr>\n",
       "    <tr>\n",
       "      <td>weighted avg</td>\n",
       "      <td>0.792891</td>\n",
       "      <td>0.802837</td>\n",
       "      <td>0.792202</td>\n",
       "      <td>705.000000</td>\n",
       "    </tr>\n",
       "  </tbody>\n",
       "</table>\n",
       "</div>"
      ],
      "text/plain": [
       "                            precision    recall  f1-score      support\n",
       "RFC TRAIN 80% Not Churned    0.829656  0.914397  0.869968  1028.000000\n",
       "              Churned        0.681159  0.493438  0.572298   381.000000\n",
       "              accuracy       0.800568  0.800568  0.800568     0.800568\n",
       "              macro avg      0.755408  0.703918  0.721133  1409.000000\n",
       "              weighted avg   0.789502  0.800568  0.789476  1409.000000\n",
       "RFC TRAIN 90% Not Churned    0.829485  0.915686  0.870457   510.000000\n",
       "              Churned        0.697183  0.507692  0.587537   195.000000\n",
       "              accuracy       0.802837  0.802837  0.802837     0.802837\n",
       "              macro avg      0.763334  0.711689  0.728997   705.000000\n",
       "              weighted avg   0.792891  0.802837  0.792202   705.000000"
      ]
     },
     "execution_count": 74,
     "metadata": {},
     "output_type": "execute_result"
    }
   ],
   "source": [
    "pd.concat([report_RFC, report_RFC1], keys = ['RFC TRAIN 80%', 'RFC TRAIN 90%'])"
   ]
  },
  {
   "cell_type": "markdown",
   "metadata": {},
   "source": [
    "### K-Nearest Neighbors Comparison"
   ]
  },
  {
   "cell_type": "code",
   "execution_count": 87,
   "metadata": {},
   "outputs": [
    {
     "data": {
      "image/png": "[encoded data removed]",
      "text/plain": [
       "<Figure size 1152x432 with 4 Axes>"
      ]
     },
     "metadata": {
      "needs_background": "light"
     },
     "output_type": "display_data"
    }
   ],
   "source": [
    "fig, (ax1,ax2) = plt.subplots(1,2, figsize=(16,6))\n",
    "sns.heatmap(cm_KNN, annot=True, fmt=\".0f\", ax=ax1)\n",
    "sns.heatmap(cm_KNN1, annot=True, fmt=\".0f\", ax=ax2)\n",
    "\n",
    "ax1.xaxis.set_ticklabels(labels), ax1.yaxis.set_ticklabels(labels)\n",
    "ax2.xaxis.set_ticklabels(labels), ax2.yaxis.set_ticklabels(labels)\n",
    "\n",
    "ax1.set_title('KNN TRAIN 80%'), ax2.set_title('KNN TRAIN 90%')\n",
    "ax1.set_xlabel('PREDICTED'), ax2.set_xlabel('PREDICTED')\n",
    "ax1.set_ylabel('ACTUAL'), ax2.set_ylabel('ACTUAL')\n",
    "\n",
    "plt.show()"
   ]
  },
  {
   "cell_type": "code",
   "execution_count": 76,
   "metadata": {
    "scrolled": true
   },
   "outputs": [
    {
     "data": {
      "text/html": [
       "<div>\n",
       "<style scoped>\n",
       "    .dataframe tbody tr th:only-of-type {\n",
       "        vertical-align: middle;\n",
       "    }\n",
       "\n",
       "    .dataframe tbody tr th {\n",
       "        vertical-align: top;\n",
       "    }\n",
       "\n",
       "    .dataframe thead th {\n",
       "        text-align: right;\n",
       "    }\n",
       "</style>\n",
       "<table border=\"1\" class=\"dataframe\">\n",
       "  <thead>\n",
       "    <tr style=\"text-align: right;\">\n",
       "      <th></th>\n",
       "      <th></th>\n",
       "      <th>precision</th>\n",
       "      <th>recall</th>\n",
       "      <th>f1-score</th>\n",
       "      <th>support</th>\n",
       "    </tr>\n",
       "  </thead>\n",
       "  <tbody>\n",
       "    <tr>\n",
       "      <td rowspan=\"5\" valign=\"top\">KNN TRAIN 80%</td>\n",
       "      <td>Not Churned</td>\n",
       "      <td>0.841566</td>\n",
       "      <td>0.878405</td>\n",
       "      <td>0.859591</td>\n",
       "      <td>1028.000000</td>\n",
       "    </tr>\n",
       "    <tr>\n",
       "      <td>Churned</td>\n",
       "      <td>0.627976</td>\n",
       "      <td>0.553806</td>\n",
       "      <td>0.588563</td>\n",
       "      <td>381.000000</td>\n",
       "    </tr>\n",
       "    <tr>\n",
       "      <td>accuracy</td>\n",
       "      <td>0.790632</td>\n",
       "      <td>0.790632</td>\n",
       "      <td>0.790632</td>\n",
       "      <td>0.790632</td>\n",
       "    </tr>\n",
       "    <tr>\n",
       "      <td>macro avg</td>\n",
       "      <td>0.734771</td>\n",
       "      <td>0.716105</td>\n",
       "      <td>0.724077</td>\n",
       "      <td>1409.000000</td>\n",
       "    </tr>\n",
       "    <tr>\n",
       "      <td>weighted avg</td>\n",
       "      <td>0.783810</td>\n",
       "      <td>0.790632</td>\n",
       "      <td>0.786304</td>\n",
       "      <td>1409.000000</td>\n",
       "    </tr>\n",
       "    <tr>\n",
       "      <td rowspan=\"5\" valign=\"top\">KNN TRAIN 90%</td>\n",
       "      <td>Not Churned</td>\n",
       "      <td>0.849524</td>\n",
       "      <td>0.874510</td>\n",
       "      <td>0.861836</td>\n",
       "      <td>510.000000</td>\n",
       "    </tr>\n",
       "    <tr>\n",
       "      <td>Churned</td>\n",
       "      <td>0.644444</td>\n",
       "      <td>0.594872</td>\n",
       "      <td>0.618667</td>\n",
       "      <td>195.000000</td>\n",
       "    </tr>\n",
       "    <tr>\n",
       "      <td>accuracy</td>\n",
       "      <td>0.797163</td>\n",
       "      <td>0.797163</td>\n",
       "      <td>0.797163</td>\n",
       "      <td>0.797163</td>\n",
       "    </tr>\n",
       "    <tr>\n",
       "      <td>macro avg</td>\n",
       "      <td>0.746984</td>\n",
       "      <td>0.734691</td>\n",
       "      <td>0.740251</td>\n",
       "      <td>705.000000</td>\n",
       "    </tr>\n",
       "    <tr>\n",
       "      <td>weighted avg</td>\n",
       "      <td>0.792800</td>\n",
       "      <td>0.797163</td>\n",
       "      <td>0.794576</td>\n",
       "      <td>705.000000</td>\n",
       "    </tr>\n",
       "  </tbody>\n",
       "</table>\n",
       "</div>"
      ],
      "text/plain": [
       "                            precision    recall  f1-score      support\n",
       "KNN TRAIN 80% Not Churned    0.841566  0.878405  0.859591  1028.000000\n",
       "              Churned        0.627976  0.553806  0.588563   381.000000\n",
       "              accuracy       0.790632  0.790632  0.790632     0.790632\n",
       "              macro avg      0.734771  0.716105  0.724077  1409.000000\n",
       "              weighted avg   0.783810  0.790632  0.786304  1409.000000\n",
       "KNN TRAIN 90% Not Churned    0.849524  0.874510  0.861836   510.000000\n",
       "              Churned        0.644444  0.594872  0.618667   195.000000\n",
       "              accuracy       0.797163  0.797163  0.797163     0.797163\n",
       "              macro avg      0.746984  0.734691  0.740251   705.000000\n",
       "              weighted avg   0.792800  0.797163  0.794576   705.000000"
      ]
     },
     "execution_count": 76,
     "metadata": {},
     "output_type": "execute_result"
    }
   ],
   "source": [
    "pd.concat([report_KNN, report_KNN1], keys = ['KNN TRAIN 80%', 'KNN TRAIN 90%'])"
   ]
  },
  {
   "cell_type": "markdown",
   "metadata": {},
   "source": [
    "### SMOTE"
   ]
  },
  {
   "cell_type": "code",
   "execution_count": 77,
   "metadata": {},
   "outputs": [],
   "source": [
    "smote = SMOTE()\n",
    "x_resampled, y_resampled = smote.fit_resample(x_train.copy(), y_train.copy())\n",
    "x1_resampled, y1_resampled = smote.fit_resample(x1_train.copy(), y1_train.copy())"
   ]
  },
  {
   "cell_type": "code",
   "execution_count": 78,
   "metadata": {},
   "outputs": [
    {
     "name": "stdout",
     "output_type": "stream",
     "text": [
      "<class 'pandas.core.frame.DataFrame'>\n",
      "Int64Index: 5634 entries, 0 to 5633\n",
      "Data columns (total 46 columns):\n",
      "Tenure                                     5634 non-null float64\n",
      "MonthlyCharges                             5634 non-null float64\n",
      "TotalCharges                               5634 non-null float64\n",
      "Gender_Female                              5634 non-null uint8\n",
      "Gender_Male                                5634 non-null uint8\n",
      "SeniorCitizen_No                           5634 non-null uint8\n",
      "SeniorCitizen_Yes                          5634 non-null uint8\n",
      "Partner_No                                 5634 non-null uint8\n",
      "Partner_Yes                                5634 non-null uint8\n",
      "Dependents_No                              5634 non-null uint8\n",
      "Dependents_Yes                             5634 non-null uint8\n",
      "PhoneService_No                            5634 non-null uint8\n",
      "PhoneService_Yes                           5634 non-null uint8\n",
      "MultipleLines_No                           5634 non-null uint8\n",
      "MultipleLines_No phone service             5634 non-null uint8\n",
      "MultipleLines_Yes                          5634 non-null uint8\n",
      "InternetService_DSL                        5634 non-null uint8\n",
      "InternetService_Fiber optic                5634 non-null uint8\n",
      "InternetService_No                         5634 non-null uint8\n",
      "OnlineSecurity_No                          5634 non-null uint8\n",
      "OnlineSecurity_No internet service         5634 non-null uint8\n",
      "OnlineSecurity_Yes                         5634 non-null uint8\n",
      "OnlineBackup_No                            5634 non-null uint8\n",
      "OnlineBackup_No internet service           5634 non-null uint8\n",
      "OnlineBackup_Yes                           5634 non-null uint8\n",
      "DeviceProtection_No                        5634 non-null uint8\n",
      "DeviceProtection_No internet service       5634 non-null uint8\n",
      "DeviceProtection_Yes                       5634 non-null uint8\n",
      "TechSupport_No                             5634 non-null uint8\n",
      "TechSupport_No internet service            5634 non-null uint8\n",
      "TechSupport_Yes                            5634 non-null uint8\n",
      "StreamingTV_No                             5634 non-null uint8\n",
      "StreamingTV_No internet service            5634 non-null uint8\n",
      "StreamingTV_Yes                            5634 non-null uint8\n",
      "StreamingMovies_No                         5634 non-null uint8\n",
      "StreamingMovies_No internet service        5634 non-null uint8\n",
      "StreamingMovies_Yes                        5634 non-null uint8\n",
      "Contract_Month-to-month                    5634 non-null uint8\n",
      "Contract_One year                          5634 non-null uint8\n",
      "Contract_Two year                          5634 non-null uint8\n",
      "PaperlessBilling_No                        5634 non-null uint8\n",
      "PaperlessBilling_Yes                       5634 non-null uint8\n",
      "PaymentMethod_Bank transfer (automatic)    5634 non-null uint8\n",
      "PaymentMethod_Credit card (automatic)      5634 non-null uint8\n",
      "PaymentMethod_Electronic check             5634 non-null uint8\n",
      "PaymentMethod_Mailed check                 5634 non-null uint8\n",
      "dtypes: float64(3), uint8(43)\n",
      "memory usage: 412.6 KB\n"
     ]
    }
   ],
   "source": [
    "x_train.info()"
   ]
  },
  {
   "cell_type": "code",
   "execution_count": 79,
   "metadata": {},
   "outputs": [
    {
     "name": "stdout",
     "output_type": "stream",
     "text": [
      "<class 'pandas.core.frame.DataFrame'>\n",
      "RangeIndex: 8292 entries, 0 to 8291\n",
      "Data columns (total 46 columns):\n",
      "Tenure                                     8292 non-null float64\n",
      "MonthlyCharges                             8292 non-null float64\n",
      "TotalCharges                               8292 non-null float64\n",
      "Gender_Female                              8292 non-null uint8\n",
      "Gender_Male                                8292 non-null uint8\n",
      "SeniorCitizen_No                           8292 non-null uint8\n",
      "SeniorCitizen_Yes                          8292 non-null uint8\n",
      "Partner_No                                 8292 non-null uint8\n",
      "Partner_Yes                                8292 non-null uint8\n",
      "Dependents_No                              8292 non-null uint8\n",
      "Dependents_Yes                             8292 non-null uint8\n",
      "PhoneService_No                            8292 non-null uint8\n",
      "PhoneService_Yes                           8292 non-null uint8\n",
      "MultipleLines_No                           8292 non-null uint8\n",
      "MultipleLines_No phone service             8292 non-null uint8\n",
      "MultipleLines_Yes                          8292 non-null uint8\n",
      "InternetService_DSL                        8292 non-null uint8\n",
      "InternetService_Fiber optic                8292 non-null uint8\n",
      "InternetService_No                         8292 non-null uint8\n",
      "OnlineSecurity_No                          8292 non-null uint8\n",
      "OnlineSecurity_No internet service         8292 non-null uint8\n",
      "OnlineSecurity_Yes                         8292 non-null uint8\n",
      "OnlineBackup_No                            8292 non-null uint8\n",
      "OnlineBackup_No internet service           8292 non-null uint8\n",
      "OnlineBackup_Yes                           8292 non-null uint8\n",
      "DeviceProtection_No                        8292 non-null uint8\n",
      "DeviceProtection_No internet service       8292 non-null uint8\n",
      "DeviceProtection_Yes                       8292 non-null uint8\n",
      "TechSupport_No                             8292 non-null uint8\n",
      "TechSupport_No internet service            8292 non-null uint8\n",
      "TechSupport_Yes                            8292 non-null uint8\n",
      "StreamingTV_No                             8292 non-null uint8\n",
      "StreamingTV_No internet service            8292 non-null uint8\n",
      "StreamingTV_Yes                            8292 non-null uint8\n",
      "StreamingMovies_No                         8292 non-null uint8\n",
      "StreamingMovies_No internet service        8292 non-null uint8\n",
      "StreamingMovies_Yes                        8292 non-null uint8\n",
      "Contract_Month-to-month                    8292 non-null uint8\n",
      "Contract_One year                          8292 non-null uint8\n",
      "Contract_Two year                          8292 non-null uint8\n",
      "PaperlessBilling_No                        8292 non-null uint8\n",
      "PaperlessBilling_Yes                       8292 non-null uint8\n",
      "PaymentMethod_Bank transfer (automatic)    8292 non-null uint8\n",
      "PaymentMethod_Credit card (automatic)      8292 non-null uint8\n",
      "PaymentMethod_Electronic check             8292 non-null uint8\n",
      "PaymentMethod_Mailed check                 8292 non-null uint8\n",
      "dtypes: float64(3), uint8(43)\n",
      "memory usage: 542.7 KB\n"
     ]
    }
   ],
   "source": [
    "x_resampled.info()"
   ]
  }
 ],
 "metadata": {
  "kernelspec": {
   "display_name": "Python 3",
   "language": "python",
   "name": "python3"
  },
  "language_info": {
   "codemirror_mode": {
    "name": "ipython",
    "version": 3
   },
   "file_extension": ".py",
   "mimetype": "text/x-python",
   "name": "python",
   "nbconvert_exporter": "python",
   "pygments_lexer": "ipython3",
   "version": "3.7.4"
  }
 },
 "nbformat": 4,
 "nbformat_minor": 4
}
